{
 "cells": [
  {
   "cell_type": "code",
   "execution_count": 1,
   "metadata": {
    "collapsed": true
   },
   "outputs": [],
   "source": [
    "from selenium import webdriver\n",
    "from bs4 import BeautifulSoup\n",
    "import os\n",
    "import pandas as pd\n",
    "import time\n",
    "import datetime\n",
    "import re\n",
    "import sqlite3 as lite\n",
    "import matplotlib.pyplot as plt\n",
    "%matplotlib inline\n",
    "import seaborn "
   ]
  },
  {
   "cell_type": "markdown",
   "metadata": {},
   "source": [
    "# Data Collection and Transformation"
   ]
  },
  {
   "cell_type": "code",
   "execution_count": 2,
   "metadata": {
    "collapsed": false
   },
   "outputs": [
    {
     "name": "stdout",
     "output_type": "stream",
     "text": [
      "http://web.mta.info/developers/data/nyct/turnstile/turnstile_170429.txt\n",
      "100505\n"
     ]
    }
   ],
   "source": [
    "url = 'http://web.mta.info/developers/turnstile.html'\n",
    "chromedriver = \"/Users/Miya/Downloads/chromedriver.exe\"\n",
    "os.environ[\"webdriver.chrome.driver\"] = chromedriver\n",
    "driver = webdriver.Chrome(chromedriver)\n",
    "driver.get(url)\n",
    "html_source = driver.page_source\n",
    "soup = BeautifulSoup(html_source, 'html.parser')\n",
    "# extract file link\n",
    "pattern = re.compile('^data.')\n",
    "data_list =  []\n",
    "for link in soup.find_all('a', href=True):\n",
    "    if re.match(pattern,link['href']):\n",
    "        data_list.append('http://web.mta.info/developers/'+link['href'])\n",
    "#check: data should range from 05/05/2010 to 04/22/2017\n",
    "print(data_list[0])\n",
    "print(data_list[-1][-10:-4])"
   ]
  },
  {
   "cell_type": "markdown",
   "metadata": {},
   "source": [
    "Two data schemas for before and after 10/18/14. "
   ]
  },
  {
   "cell_type": "code",
   "execution_count": 3,
   "metadata": {
    "collapsed": false
   },
   "outputs": [
    {
     "name": "stdout",
     "output_type": "stream",
     "text": [
      "133\n"
     ]
    }
   ],
   "source": [
    "for i, v in enumerate(data_list):\n",
    "    if v[-10:] == '141011.txt':\n",
    "        print(i)"
   ]
  },
  {
   "cell_type": "code",
   "execution_count": 3,
   "metadata": {
    "collapsed": false
   },
   "outputs": [],
   "source": [
    "data_list_prior = data_list[133:]\n",
    "data_list_post = data_list[:134]"
   ]
  },
  {
   "cell_type": "markdown",
   "metadata": {},
   "source": [
    "#### Create two tables to store the data "
   ]
  },
  {
   "cell_type": "code",
   "execution_count": 4,
   "metadata": {
    "collapsed": true
   },
   "outputs": [],
   "source": [
    "conPost = lite.connect('post.db')  \n",
    "conPre = lite.connect('pre.db')"
   ]
  },
  {
   "cell_type": "markdown",
   "metadata": {},
   "source": [
    "**A.** Collect data ** AFTER** 10/18/14 "
   ]
  },
  {
   "cell_type": "code",
   "execution_count": null,
   "metadata": {
    "collapsed": true
   },
   "outputs": [],
   "source": [
    "record_cnt = 0  \n",
    "for link in data_list_post:\n",
    "    data = pd.read_table(link, sep=',')\n",
    "    print('%s:%s rows %s columns' % (link[-10:-4],data.shape[0], data.shape[1])) #printing out values makes me feel safe....\n",
    "    record_cnt += data.shape[0]\n",
    "    data.to_sql(name='post', con=conPost, flavor='sqlite', if_exists='append')"
   ]
  },
  {
   "cell_type": "markdown",
   "metadata": {},
   "source": [
    "Check we don't miss anything"
   ]
  },
  {
   "cell_type": "code",
   "execution_count": 23,
   "metadata": {
    "collapsed": false
   },
   "outputs": [
    {
     "name": "stdout",
     "output_type": "stream",
     "text": [
      "[(25304899,)]\n",
      "25304899\n"
     ]
    }
   ],
   "source": [
    "with conPost:\n",
    "    cur = conPost.cursor()\n",
    "    cur.execute(\"\"\"select count(*) from post\"\"\")\n",
    "    cnt = cur.fetchall()\n",
    "    print(cnt)\n",
    "    print(record_cnt)"
   ]
  },
  {
   "cell_type": "markdown",
   "metadata": {},
   "source": [
    "**B.** Collec data ** BEFORE** 10/18/14 "
   ]
  },
  {
   "cell_type": "markdown",
   "metadata": {},
   "source": [
    "record_cnt = 0 \n",
    "col_names = [\"C/A\",\"UNIT\",\"SCP\",\"DATE\",\"TIME\",\"DESC\",\"ENTRIES\",\"EXITS\"]\n",
    "\n",
    "for link in data_list_prior:\n",
    "    for i in range(3,39,5):\n",
    "        data = pd.read_table(link, sep=',',header = None,usecols = [0,1,2,i,i+1,i+2,i+3,i+4],names = col_names)\n",
    "        print('%s:%s rows %s columns' % (link[-10:-4],data.shape[0], data.shape[1]))\n",
    "        record_cnt += data.shape[0]\n",
    "        data.to_sql(name='prePart', con=conPre, flavor='sqlite', if_exists='append')\n",
    "\n",
    "with conPre:\n",
    "    cur = conPre.cursor()\n",
    "    cur.execute(\"\"\"select count(*) from prePart\"\"\")\n",
    "    cnt = cur.fetchall()"
   ]
  },
  {
   "cell_type": "code",
   "execution_count": null,
   "metadata": {
    "collapsed": false,
    "scrolled": true
   },
   "outputs": [
    {
     "name": "stdout",
     "output_type": "stream",
     "text": [
      "141011:29797 rows 43 columns\n",
      "141004:30125 rows 43 columns\n",
      "140927:29972 rows 43 columns\n",
      "140920:29628 rows 43 columns\n",
      "140913:29676 rows 43 columns\n",
      "140906:30081 rows 43 columns\n",
      "140830:29421 rows 43 columns\n",
      "140823:29791 rows 43 columns\n",
      "140816:29448 rows 43 columns\n",
      "140809:29639 rows 43 columns\n",
      "140802:29396 rows 43 columns\n",
      "140726:29450 rows 43 columns\n",
      "140719:29432 rows 43 columns\n",
      "140712:29068 rows 43 columns\n",
      "140705:28769 rows 43 columns\n",
      "140628:29375 rows 43 columns\n",
      "140621:29284 rows 43 columns\n",
      "140614:29418 rows 43 columns\n",
      "140607:29728 rows 43 columns\n",
      "140531:29294 rows 43 columns\n",
      "140524:29211 rows 43 columns\n",
      "140517:29205 rows 43 columns\n",
      "140510:29419 rows 43 columns\n",
      "140503:29298 rows 43 columns\n",
      "140426:29492 rows 43 columns\n",
      "140419:29821 rows 43 columns\n",
      "140412:29752 rows 43 columns\n",
      "140405:29891 rows 43 columns\n",
      "140329:29515 rows 43 columns\n",
      "140322:29299 rows 43 columns\n",
      "140315:28789 rows 43 columns\n",
      "140308:29204 rows 43 columns\n",
      "140301:29317 rows 43 columns\n",
      "140222:28973 rows 43 columns\n",
      "140215:29390 rows 43 columns\n",
      "140208:29247 rows 43 columns\n",
      "140201:29967 rows 43 columns\n",
      "140125:29126 rows 43 columns\n",
      "140118:29595 rows 43 columns\n",
      "140111:29004 rows 43 columns\n",
      "140104:28624 rows 43 columns\n",
      "131228:28746 rows 43 columns\n",
      "131221:29093 rows 43 columns\n",
      "131214:29346 rows 43 columns\n",
      "131207:29147 rows 43 columns\n",
      "131130:28762 rows 43 columns\n",
      "131123:29474 rows 43 columns\n",
      "131116:29489 rows 43 columns\n",
      "131109:29844 rows 43 columns\n",
      "131102:30194 rows 43 columns\n",
      "131026:29912 rows 43 columns\n",
      "131019:29451 rows 43 columns\n",
      "131012:29870 rows 43 columns\n",
      "131005:29723 rows 43 columns\n",
      "130928:29585 rows 43 columns\n",
      "130921:29202 rows 43 columns\n",
      "130914:29301 rows 43 columns\n",
      "130907:31855 rows 43 columns\n",
      "130831:29477 rows 43 columns\n",
      "130824:29160 rows 43 columns\n",
      "130817:29515 rows 43 columns\n",
      "130810:29190 rows 43 columns\n",
      "130803:29427 rows 43 columns\n",
      "130727:29374 rows 43 columns\n",
      "130720:29287 rows 43 columns\n",
      "130713:29504 rows 43 columns\n",
      "130706:30965 rows 43 columns\n",
      "130629:29638 rows 43 columns\n",
      "130622:29525 rows 43 columns\n",
      "130615:30187 rows 43 columns\n",
      "130608:29640 rows 43 columns\n",
      "130601:29943 rows 43 columns\n",
      "130525:29509 rows 43 columns\n",
      "130518:29541 rows 43 columns\n",
      "130511:35392 rows 43 columns\n",
      "130504:29429 rows 43 columns\n",
      "130427:29014 rows 43 columns\n",
      "130420:29612 rows 43 columns\n",
      "130413:30023 rows 43 columns\n",
      "130406:31266 rows 43 columns\n",
      "130330:30161 rows 43 columns\n",
      "130323:31717 rows 43 columns\n",
      "130316:29140 rows 43 columns\n",
      "130309:29399 rows 43 columns\n",
      "130302:31207 rows 43 columns\n",
      "130223:29338 rows 43 columns\n",
      "130216:30483 rows 43 columns\n",
      "130209:29513 rows 43 columns\n",
      "130202:30862 rows 43 columns\n",
      "130126:28804 rows 43 columns\n",
      "130119:29073 rows 43 columns\n",
      "130112:28629 rows 43 columns\n",
      "130105:27667 rows 43 columns\n",
      "121229:27987 rows 43 columns\n",
      "121222:28344 rows 43 columns\n",
      "121215:28434 rows 43 columns\n",
      "121208:27732 rows 43 columns\n",
      "121201:28057 rows 43 columns\n",
      "121124:27357 rows 43 columns\n",
      "121117:27484 rows 43 columns\n",
      "121110:25969 rows 43 columns\n",
      "121103:23442 rows 43 columns\n",
      "121027:29961 rows 43 columns\n",
      "121020:29013 rows 43 columns\n",
      "121013:28984 rows 43 columns\n",
      "121006:28646 rows 43 columns\n",
      "120929:28751 rows 43 columns\n",
      "120922:28692 rows 43 columns\n",
      "120915:28667 rows 43 columns\n"
     ]
    }
   ],
   "source": [
    "record_cnt = 0 \n",
    "col_names = [\"C/A\",\"UNIT\",\"SCP\",\"DATE1\",\"TIME1\",\"DESC1\",\"ENTRIES1\",\"EXITS1\",\n",
    "             \"DATE2\",\"TIME2\",\"DESC2\",\"ENTRIES2\",\"EXITS2\",\n",
    "             \"DATE3\",\"TIME3\",\"DESC3\",\"ENTRIES3\",\"EXITS3\",\n",
    "             \"DATE4\",\"TIME4\",\"DESC4\",\"ENTRIES4\",\"EXITS4\",\n",
    "             \"DATE5\",\"TIME5\",\"DESC5\",\"ENTRIES5\",\"EXITS5\",\n",
    "             \"DATE6\",\"TIME6\",\"DESC6\",\"ENTRIES6\",\"EXITS6\",\n",
    "             \"DATE7\",\"TIME7\",\"DESC7\",\"ENTRIES7\",\"EXITS7\",\n",
    "             \"DATE8\",\"TIME8\",\"DESC8\",\"ENTRIES8\",\"EXITS8\"]\n",
    "\n",
    "for link in data_list_prior:\n",
    "    df = pd.read_table(link, sep=',',header = None,names = col_names)\n",
    "    print('%s:%s rows %s columns' % (link[-10:-4],df.shape[0], df.shape[1]))\n",
    "    record_cnt += df.shape[0]\n",
    "    df.to_sql(name='prePart', con=conPre, flavor='sqlite', if_exists='append')"
   ]
  },
  {
   "cell_type": "code",
   "execution_count": null,
   "metadata": {
    "collapsed": true
   },
   "outputs": [],
   "source": [
    "with conPre:\n",
    "    cur = conPre.cursor()\n",
    "    cur.execute(\"\"\"select count(*) from prePart\"\"\")\n",
    "    cnt = cur.fetchall()  "
   ]
  },
  {
   "cell_type": "code",
   "execution_count": null,
   "metadata": {
    "collapsed": false
   },
   "outputs": [],
   "source": [
    "print(cnt)\n",
    "print(record_cnt)"
   ]
  },
  {
   "cell_type": "code",
   "execution_count": null,
   "metadata": {
    "collapsed": false
   },
   "outputs": [],
   "source": [
    "with conPre:\n",
    "    cur = conPre.cursor()\n",
    "    cur.execute(\"\"\"Create table prior AS select [C/A],UNIT,SCP,DATE1 AS DATE,TIME1 AS TIME,DESC1 AS DESC,ENTRIES1 AS ENTRIES,EXITS1 AS EXITS from prePart \n",
    "    UNION ALL \n",
    "    select [C/A],UNIT,SCP,DATE2 AS DATE,TIME2 AS TIME,DESC2 AS DESC,ENTRIES2 AS ENTRIES,EXITS2 AS EXITS from prePart \n",
    "    UNION ALL \n",
    "    select [C/A],UNIT,SCP,DATE3 AS DATE,TIME3 AS TIME,DESC3 AS DESC,ENTRIES3 AS ENTRIES,EXITS3 AS EXITS from prePart \n",
    "    UNION ALL \n",
    "    select [C/A],UNIT,SCP,DATE4 AS DATE,TIME4 AS TIME,DESC4 AS DESC,ENTRIES4 AS ENTRIES,EXITS4 AS EXITS from prePart \n",
    "    UNION ALL \n",
    "    select [C/A],UNIT,SCP,DATE5 AS DATE,TIME5 AS TIME,DESC5 AS DESC,ENTRIES5 AS ENTRIES,EXITS5 AS EXITS from prePart \n",
    "    UNION ALL \n",
    "    select [C/A],UNIT,SCP,DATE6 AS DATE,TIME6 AS TIME,DESC6 AS DESC,ENTRIES6 AS ENTRIES,EXITS6 AS EXITS from prePart \n",
    "    UNION ALL \n",
    "    select [C/A],UNIT,SCP,DATE7 AS DATE,TIME7 AS TIME,DESC7 AS DESC,ENTRIES7 AS ENTRIES,EXITS7 AS EXITS from prePart \n",
    "    UNION ALL \n",
    "    select [C/A],UNIT,SCP,DATE8 AS DATE,TIME8 AS TIME,DESC8 AS DESC,ENTRIES8 AS ENTRIES,EXITS8 AS EXITS from prePart\"\"\")"
   ]
  },
  {
   "cell_type": "code",
   "execution_count": null,
   "metadata": {
    "collapsed": false
   },
   "outputs": [],
   "source": [
    "with conPre:\n",
    "    cur = conPre.cursor()\n",
    "    cur.execute(\"\"\"select count(*) from prior\"\"\")\n",
    "    cnt = cur.fetchall()\n",
    "print(cnt)"
   ]
  },
  {
   "cell_type": "markdown",
   "metadata": {},
   "source": [
    "#### Add TURNSTILE and modify data type"
   ]
  },
  {
   "cell_type": "code",
   "execution_count": null,
   "metadata": {
    "collapsed": true
   },
   "outputs": [],
   "source": [
    "with conPre:\n",
    "    cur = conPre.cursor()\n",
    "    cur.execute(\"\"\"UPDATE prior set TURNSTILE = [C/A] || '-' || UNIT || '-' || SCP\"\"\")"
   ]
  },
  {
   "cell_type": "code",
   "execution_count": null,
   "metadata": {
    "collapsed": true
   },
   "outputs": [],
   "source": [
    "with conPre:\n",
    "    cur = conPre.cursor()\n",
    "    cur.execute(\"\"\"UPDATE prior set ENTRANCES_f = CAST(ENTRANCES as real)\"\"\")\n",
    "    cur.execute(\"\"\"UPDATE prior set EXITS_f = CAST(EXITS as real)\"\"\")"
   ]
  },
  {
   "cell_type": "markdown",
   "metadata": {},
   "source": [
    "**C.** Collect data about Remote Unit/Control Area/Station Name Key"
   ]
  },
  {
   "cell_type": "code",
   "execution_count": null,
   "metadata": {
    "collapsed": false
   },
   "outputs": [],
   "source": [
    "col_names = [\"UNIT\",'C/A','STATION','LINENAME','DIVISION']\n",
    "remote = pd.read_excel(\"http://web.mta.info/developers/resources/nyct/turnstile/Remote-Booth-Station.xls\", names=col_names).drop_duplicates(['UNIT','C/A'])\n",
    "remote.to_sql(name='remote', con=conPre, flavor='sqlite', if_exists='replace')\n",
    "\n",
    "with conPre:\n",
    "    cur = conPre.cursor()\n",
    "    cur.execute(\"\"\"select count(*) from remote\"\"\")\n",
    "    cnt = cur.fetchall()\n",
    "    print(cnt)"
   ]
  },
  {
   "cell_type": "code",
   "execution_count": null,
   "metadata": {
    "collapsed": true
   },
   "outputs": [],
   "source": []
  },
  {
   "cell_type": "markdown",
   "metadata": {},
   "source": [
    "Now we have two databases: post.db and pre.db\n",
    "\n",
    "1. **post.db** has **one** table called **post**, which stores complete information about data after 10/18/14;\n",
    "\n",
    "2. **pre.db** has **two** tables called **remote and prior**;"
   ]
  },
  {
   "cell_type": "markdown",
   "metadata": {},
   "source": [
    "** schemas of tables:**"
   ]
  },
  {
   "cell_type": "code",
   "execution_count": null,
   "metadata": {
    "collapsed": false
   },
   "outputs": [],
   "source": [
    "with conPre:\n",
    "    cur = conPre.cursor()\n",
    "    cur.execute(\"\"\"select sql from sqlite_master where type = 'table' and name = 'prior'\"\"\")\n",
    "    desc = cur.fetchall()\n",
    "    print(desc)"
   ]
  },
  {
   "cell_type": "code",
   "execution_count": 23,
   "metadata": {
    "collapsed": false
   },
   "outputs": [
    {
     "name": "stdout",
     "output_type": "stream",
     "text": [
      "[('CREATE TABLE \"post\" (\\n\"index\" INTEGER,\\n  \"C/A\" TEXT,\\n  \"UNIT\" TEXT,\\n  \"SCP\" TEXT,\\n  \"STATION\" TEXT,\\n  \"LINENAME\" TEXT,\\n  \"DIVISION\" TEXT,\\n  \"DATE\" TEXT,\\n  \"TIME\" TEXT,\\n  \"DESC\" TEXT,\\n  \"ENTRIES\" INTEGER,\\n  \"EXITS                                                               \" INTEGER\\n)',)]\n"
     ]
    }
   ],
   "source": [
    "with conPost:\n",
    "    cur = conPost.cursor()\n",
    "    cur.execute(\"\"\"select sql from sqlite_master where type = 'table' and name = 'post'\"\"\")\n",
    "    desc = cur.fetchall()\n",
    "    print(desc)"
   ]
  },
  {
   "cell_type": "code",
   "execution_count": null,
   "metadata": {
    "collapsed": true
   },
   "outputs": [],
   "source": [
    "with conPre:\n",
    "    cur = conPre.cursor()\n",
    "    cur.execute(\"\"\"select sql from sqlite_master where type = 'table' and name = 'remote'\"\"\")\n",
    "    desc = cur.fetchall()\n",
    "    print(desc)"
   ]
  },
  {
   "cell_type": "markdown",
   "metadata": {},
   "source": [
    "** Sanity Check:** Missing Data\n",
    "\n",
    "Turntiles are missing somewhere"
   ]
  },
  {
   "cell_type": "code",
   "execution_count": null,
   "metadata": {
    "collapsed": false
   },
   "outputs": [],
   "source": [
    "with conPre:\n",
    "    cur = conPre.cursor()\n",
    "    cur.execute(\"\"\"select count([C/A]), COUNT(SCP),count(unit) from prior\"\"\")\n",
    "    cnt = cur.fetchall()\n",
    "    print(cnt)"
   ]
  },
  {
   "cell_type": "markdown",
   "metadata": {},
   "source": [
    "# Data Analysis\n",
    "\n",
    "#### 1. Which station has the most number of units?\n",
    "    \n",
    "   **Answer：** 86 ST  "
   ]
  },
  {
   "cell_type": "code",
   "execution_count": 406,
   "metadata": {
    "collapsed": false
   },
   "outputs": [
    {
     "name": "stdout",
     "output_type": "stream",
     "text": [
      "[('86 ST', 5)]\n",
      "Spend 0 seconds\n"
     ]
    }
   ],
   "source": [
    "start = datetime.datetime.now()\n",
    "with conPre:\n",
    "    cur = conPre.cursor()\n",
    "    cur.execute(\"\"\"select STATION, COUNT(DISTINCT unit) from remote group by STATION order by count(distinct unit) desc limit 1\"\"\")\n",
    "    top_station = cur.fetchall()\n",
    "print(top_station)\n",
    "end = datetime.datetime.now()\n",
    "print('Spend %s seconds'%(end-start).seconds)"
   ]
  },
  {
   "cell_type": "markdown",
   "metadata": {},
   "source": [
    "#### 2. What is the total number of entries & exits across the subway system for August 1, 2013?\n",
    "\n",
    "   **Answer：** 9636595"
   ]
  },
  {
   "cell_type": "code",
   "execution_count": null,
   "metadata": {
    "collapsed": true
   },
   "outputs": [],
   "source": [
    "start = datetime.datetime.now()\n",
    "with conPre:\n",
    "    cur = conPre.cursor()\n",
    "    cur.execute(\"\"\"TURNSTILE,date,max(ENTRIES_f) AS entries, max(exits_f) as exits from prior \n",
    "    group by turnstile, date Having DATE IN ('08-01-13','07-31-13')\"\"\")\n",
    "    EE080113 = cur.fetchall()\n",
    "end = datetime.datetime.now()\n",
    "print('Spend %s seconds'%(end-start).seconds)"
   ]
  },
  {
   "cell_type": "code",
   "execution_count": null,
   "metadata": {
    "collapsed": true
   },
   "outputs": [],
   "source": [
    "start = datetime.datetime.now()\n",
    "with conPre:\n",
    "    cur = conPre.cursor()\n",
    "    cur.execute(\"\"\"select [C/A] || '-' || UNIT || '-' || SCP AS TURNSTILE,DESC,TIME,(ENTRIES+EXITS) AS TOTAL \\\n",
    "    from prior where DATE = '08-01-13' AND DESC IN ('REGULAR','RECOVR AUD')\n",
    "    UNION ALL\n",
    "    select [C/A] || '-' || UNIT || '-' || SCP AS TURNSTILE,DESC,'24:00:00' AS TIME,(ENTRIES+EXITS) AS TOTAL \\\n",
    "    from prior where DATE = '08-02-13' AND TIME = '00:00:00'AND DESC IN ('REGULAR','RECOVR AUD')\"\"\")\n",
    "    EE080113 = cur.fetchall()"
   ]
  },
  {
   "cell_type": "code",
   "execution_count": 475,
   "metadata": {
    "collapsed": false
   },
   "outputs": [
    {
     "name": "stdout",
     "output_type": "stream",
     "text": [
      "31947\n",
      "31947\n",
      "30666\n",
      "total          0.0\n",
      "total   -1236270.0\n",
      "dtype: float64\n",
      "Spend 74 seconds\n"
     ]
    }
   ],
   "source": [
    "start = datetime.datetime.now()\n",
    "with conPre:\n",
    "    cur = conPre.cursor()\n",
    "    cur.execute(\"\"\"select [C/A] || '-' || UNIT || '-' || SCP AS TURNSTILE,DESC,TIME,(ENTRIES+EXITS) AS TOTAL \\\n",
    "    from prior where DATE = '08-01-13' AND DESC IN ('REGULAR','RECOVR AUD')\n",
    "    UNION ALL\n",
    "    select [C/A] || '-' || UNIT || '-' || SCP AS TURNSTILE,DESC,'24:00:00' AS TIME,(ENTRIES+EXITS) AS TOTAL \\\n",
    "    from prior where DATE = '08-02-13' AND TIME = '00:00:00'AND DESC IN ('REGULAR','RECOVR AUD')\"\"\")\n",
    "    EE080113 = cur.fetchall()\n",
    "end = datetime.datetime.now()\n",
    "EE080113_df = pd.DataFrame(EE080113,columns = ['turnstile','DESC','time','total'])\n",
    "print(len(EE080113_df))\n",
    "EE080113_df = EE080113_df.dropna().sort_values(by = 'DESC').reindex()\n",
    "print(len(EE080113_df))\n",
    "## recover audit\n",
    "EE080113_df = EE080113_df[~EE080113_df.duplicated(['turnstile','time'],keep = 'first').values].groupby(['turnstile','time']).sum().sort_index()\n",
    "print(len(EE080113_df))\n",
    "first = EE080113_df.groupby(level=0).nth(0)\n",
    "last = EE080113_df.groupby(level=0).nth(-1)\n",
    "diff = pd.concat([first, last], axis=1, join='inner').diff(axis = 1)\n",
    "print(diff.sum())\n",
    "print('Spend %s seconds'%(end-start).seconds)"
   ]
  },
  {
   "cell_type": "markdown",
   "metadata": {},
   "source": [
    "** Why the value is negative? **"
   ]
  },
  {
   "cell_type": "code",
   "execution_count": 482,
   "metadata": {
    "collapsed": false
   },
   "outputs": [
    {
     "data": {
      "text/html": [
       "<div>\n",
       "<table border=\"1\" class=\"dataframe\">\n",
       "  <thead>\n",
       "    <tr style=\"text-align: right;\">\n",
       "      <th></th>\n",
       "      <th>total</th>\n",
       "      <th>total</th>\n",
       "    </tr>\n",
       "    <tr>\n",
       "      <th>turnstile</th>\n",
       "      <th></th>\n",
       "      <th></th>\n",
       "    </tr>\n",
       "  </thead>\n",
       "  <tbody>\n",
       "    <tr>\n",
       "      <th>N504-R021-02-00-04</th>\n",
       "      <td>NaN</td>\n",
       "      <td>-10869325.0</td>\n",
       "    </tr>\n",
       "  </tbody>\n",
       "</table>\n",
       "</div>"
      ],
      "text/plain": [
       "                    total       total\n",
       "turnstile                            \n",
       "N504-R021-02-00-04    NaN -10869325.0"
      ]
     },
     "execution_count": 482,
     "metadata": {},
     "output_type": "execute_result"
    }
   ],
   "source": [
    "diff[diff.iloc[:,-1]<0]"
   ]
  },
  {
   "cell_type": "markdown",
   "metadata": {},
   "source": [
    "** It shows Turnstile N504-R021-02-00-04 has strange records. Then let's see full records of Turnstile N504-R021-02-00-04 **"
   ]
  },
  {
   "cell_type": "code",
   "execution_count": 416,
   "metadata": {
    "collapsed": false,
    "scrolled": true
   },
   "outputs": [
    {
     "data": {
      "text/html": [
       "<div>\n",
       "<table border=\"1\" class=\"dataframe\">\n",
       "  <thead>\n",
       "    <tr style=\"text-align: right;\">\n",
       "      <th></th>\n",
       "      <th></th>\n",
       "      <th>total</th>\n",
       "    </tr>\n",
       "    <tr>\n",
       "      <th>turnstile</th>\n",
       "      <th>time</th>\n",
       "      <th></th>\n",
       "    </tr>\n",
       "  </thead>\n",
       "  <tbody>\n",
       "    <tr>\n",
       "      <th rowspan=\"7\" valign=\"top\">N504R02102-00-04</th>\n",
       "      <th>00:00:00</th>\n",
       "      <td>10874252.0</td>\n",
       "    </tr>\n",
       "    <tr>\n",
       "      <th>04:00:00</th>\n",
       "      <td>10874298.0</td>\n",
       "    </tr>\n",
       "    <tr>\n",
       "      <th>08:00:00</th>\n",
       "      <td>10874687.0</td>\n",
       "    </tr>\n",
       "    <tr>\n",
       "      <th>12:00:00</th>\n",
       "      <td>1822.0</td>\n",
       "    </tr>\n",
       "    <tr>\n",
       "      <th>16:00:00</th>\n",
       "      <td>2774.0</td>\n",
       "    </tr>\n",
       "    <tr>\n",
       "      <th>20:00:00</th>\n",
       "      <td>4517.0</td>\n",
       "    </tr>\n",
       "    <tr>\n",
       "      <th>24:00:00</th>\n",
       "      <td>4927.0</td>\n",
       "    </tr>\n",
       "  </tbody>\n",
       "</table>\n",
       "</div>"
      ],
      "text/plain": [
       "                                total\n",
       "turnstile        time                \n",
       "N504R02102-00-04 00:00:00  10874252.0\n",
       "                 04:00:00  10874298.0\n",
       "                 08:00:00  10874687.0\n",
       "                 12:00:00      1822.0\n",
       "                 16:00:00      2774.0\n",
       "                 20:00:00      4517.0\n",
       "                 24:00:00      4927.0"
      ]
     },
     "execution_count": 416,
     "metadata": {},
     "output_type": "execute_result"
    }
   ],
   "source": [
    "EE080113_df.iloc[EE080113_df.index.get_level_values('turnstile') == 'N504R02102-00-04']"
   ]
  },
  {
   "cell_type": "code",
   "execution_count": 483,
   "metadata": {
    "collapsed": false
   },
   "outputs": [
    {
     "name": "stdout",
     "output_type": "stream",
     "text": [
      "Total number of entries & exits for Turnstile N504-R021-02-00-04 should be 3540\n"
     ]
    }
   ],
   "source": [
    "print('Total number of entries & exits for Turnstile N504-R021-02-00-04 should be %s' % ((10874687 - 10874252)+(4927-1822)))"
   ]
  },
  {
   "cell_type": "markdown",
   "metadata": {},
   "source": [
    "**Plot the distribution to see if the results make sense**"
   ]
  },
  {
   "cell_type": "code",
   "execution_count": 543,
   "metadata": {
    "collapsed": false
   },
   "outputs": [
    {
     "data": {
      "text/plain": [
       "<matplotlib.text.Text at 0x9f3db290b8>"
      ]
     },
     "execution_count": 543,
     "metadata": {},
     "output_type": "execute_result"
    },
    {
     "data": {
      "image/png": "[encoded data removed]",
      "text/plain": [
       "<matplotlib.figure.Figure at 0x9f3dc96c18>"
      ]
     },
     "metadata": {},
     "output_type": "display_data"
    }
   ],
   "source": [
    "plt.figure(figsize=(6,3))\n",
    "plt.hist(diff[diff.iloc[:,-1]>0].iloc[:,-1].values)\n",
    "plt.title('Histogram of number of entries & exits for each Turnstile for each audit')"
   ]
  },
  {
   "cell_type": "code",
   "execution_count": 491,
   "metadata": {
    "collapsed": false
   },
   "outputs": [
    {
     "name": "stdout",
     "output_type": "stream",
     "text": [
      "The final answer is 9636595.0\n"
     ]
    }
   ],
   "source": [
    "print('The final answer is %s' %(sum(diff[diff.iloc[:,-1]>0].iloc[:,-1].values)+3540))"
   ]
  },
  {
   "cell_type": "code",
   "execution_count": null,
   "metadata": {
    "collapsed": true
   },
   "outputs": [],
   "source": []
  },
  {
   "cell_type": "markdown",
   "metadata": {},
   "source": [
    "#### 3. Let’s define the busy-ness as sum of entry & exit count. What station was the busiest on August 1, 2013? What turnstile was the busiest on that date?\n",
    "\n",
    "   **Answer：** \n",
    "   1. '42 ST-GRD CNTRL'\n",
    "   2. C/A: N063A;  UNIT: R011;   SCP: 00-00-00"
   ]
  },
  {
   "cell_type": "code",
   "execution_count": null,
   "metadata": {
    "collapsed": true
   },
   "outputs": [],
   "source": [
    "EE080113"
   ]
  },
  {
   "cell_type": "code",
   "execution_count": 545,
   "metadata": {
    "collapsed": false
   },
   "outputs": [
    {
     "name": "stdout",
     "output_type": "stream",
     "text": [
      "[('42 ST-GRD CNTRL',)]\n",
      "----------------\n",
      "total           11845\n",
      "station    N063A-R011\n",
      "Name: N063A-R011-00-00-00, dtype: object\n"
     ]
    }
   ],
   "source": [
    "station_list = list(map(lambda x: x.split('-')[0]+'-'+x.split('-')[1],busy_ness080113.index))\n",
    "busy_ness080113['station'] = station_list\n",
    "busy_ness080113.groupby('station').sum().sort_values(by = 'total',ascending = False).iloc[0,:]\n",
    "\n",
    "station_list = list(map(lambda x: x.split('-')[0]+'-'+x.split('-')[1],busy_ness080113.index))\n",
    "busy_ness080113['station'] = station_list\n",
    "\n",
    "with conPre:\n",
    "    cur = conPre.cursor()\n",
    "    cur.execute(\"\"\"select STATION from remote where UNIT = 'R046' AND [C/A] = 'R238'\"\"\")\n",
    "    busy_station = cur.fetchall()\n",
    "print(busy_station)\n",
    "print('----------------')\n",
    "print(busy_ness080113.sort_values(by = 'total',ascending = False).iloc[0,:])"
   ]
  },
  {
   "cell_type": "code",
   "execution_count": null,
   "metadata": {
    "collapsed": true
   },
   "outputs": [],
   "source": []
  },
  {
   "cell_type": "markdown",
   "metadata": {},
   "source": [
    "#### 4. What stations have seen the most usage growth/decline in 2013\n",
    "\n",
    "   **Answer:** \n",
    "   1. decease:[('66 ST-LINCOLN',)]\n",
    "   2. incease:[('FULTON ST',)]"
   ]
  },
  {
   "cell_type": "code",
   "execution_count": null,
   "metadata": {
    "collapsed": true
   },
   "outputs": [],
   "source": [
    "start = datetime.datetime.now()\n",
    "with conPre:\n",
    "    cur = conPre.cursor()\n",
    "    cur.execute(\"\"\"TURNSTILE,date,max(ENTRIES_f) AS entries, max(exits_f) as exits from prior \n",
    "    group by turnstile, date Having DATE LIKE '%13'\"\"\")\n",
    "    EE13 = cur.fetchall()\n",
    "end = datetime.datetime.now()\n",
    "print('Spend %s seconds'%(end-start).seconds)"
   ]
  },
  {
   "cell_type": "code",
   "execution_count": 55,
   "metadata": {
    "collapsed": false
   },
   "outputs": [
    {
     "name": "stdout",
     "output_type": "stream",
     "text": [
      "10417845\n",
      "10417838\n",
      "10017549\n",
      "total    0.000000e+00\n",
      "total    1.659806e+10\n",
      "dtype: float64\n",
      "Spend 96 seconds\n"
     ]
    }
   ],
   "source": [
    "start = datetime.datetime.now()\n",
    "with conPre:\n",
    "    cur = conPre.cursor()\n",
    "    cur.execute(\"\"\"select [C/A] || '_' || UNIT || '_' || SCP AS TURNSTILE,DESC,DATE || TIME AS TIME,(ENTRIES+EXITS) AS TOTAL \\\n",
    "    from prior where DATE LIKE '%13' AND DESC IN ('REGULAR','RECOVR AUD')\n",
    "    UNION ALL\n",
    "    select [C/A] || '_' || UNIT || '_' || SCP AS TURNSTILE,DESC,'12-31-13'||'24:00:00' AS TIME,(ENTRIES+EXITS) AS TOTAL \\\n",
    "    from prior where DATE = '01-01-14' AND TIME = '00:00:00'AND DESC IN ('REGULAR','RECOVR AUD')\"\"\")\n",
    "    EE13 = cur.fetchall()\n",
    "end = datetime.datetime.now()\n",
    "EE13_df = pd.DataFrame(EE13,columns = ['turnstile','DESC','time','total'])\n",
    "print(len(EE13_df))\n",
    "EE13_df = EE13_df.dropna().sort_values(by = 'DESC').reindex()\n",
    "print(len(EE13_df))\n",
    "## recover audit\n",
    "EE13_df = EE13_df[~EE13_df.duplicated(['turnstile','time'],keep = 'first').values].groupby(['turnstile','time']).sum().sort_index()\n",
    "print(len(EE13_df))\n",
    "first = EE13_df.groupby(level=0).nth(0)\n",
    "last = EE13_df.groupby(level=0).nth(-1)\n",
    "diff = pd.concat([first, last], axis=1, join='inner').diff(axis = 1)\n",
    "print(diff.sum())\n",
    "print('Spend %s seconds'%(end-start).seconds)"
   ]
  },
  {
   "cell_type": "code",
   "execution_count": 56,
   "metadata": {
    "collapsed": true
   },
   "outputs": [],
   "source": [
    "index_N = diff[diff.iloc[:,-1]<0].index\n",
    "dict_ee = dict()\n",
    "for i in index_N:\n",
    "    dict_ee[i] = 0\n",
    "    ee = EE13_df.iloc[EE13_df.index.get_level_values('turnstile') == i].values\n",
    "    value0 = ee[0]\n",
    "    for value in ee[1:]:\n",
    "        if value>=value0:\n",
    "            dict_ee[i]+=value-value0\n",
    "            value0 = value\n",
    "        else:\n",
    "            value0 = value\n",
    "for index in dict_ee.keys():\n",
    "    diff.ix[index,-1] = dict_ee[index][0]\n",
    "    \n",
    "diff['station'] = list(map(lambda x: x.split('_')[0]+x.split('_')[1],diff.index))\n",
    "ee2013 = diff.groupby(['station']).sum()\n",
    "ee2013.columns = ['NA','2013']"
   ]
  },
  {
   "cell_type": "code",
   "execution_count": 60,
   "metadata": {
    "collapsed": false
   },
   "outputs": [],
   "source": [
    "with conPre:\n",
    "    cur = conPre.cursor()\n",
    "    cur.execute(\"\"\"select [C/A] || '_' || UNIT || '_' || SCP AS TURNSTILE,DESC,DATE || TIME AS TIME,(ENTRIES+EXITS) AS TOTAL \\\n",
    "    from prior where DATE LIKE '%12' AND DESC IN ('REGULAR','RECOVR AUD')\n",
    "    UNION ALL\n",
    "    select [C/A] || '_' || UNIT || '_' || SCP AS TURNSTILE,DESC,'12-31-12'||'24:00:00' AS TIME,(ENTRIES+EXITS) AS TOTAL \\\n",
    "    from prior where DATE = '01-01-13' AND TIME = '00:00:00'AND DESC IN ('REGULAR','RECOVR AUD')\"\"\")\n",
    "    EE12 = cur.fetchall()\n",
    "EE12_df = pd.DataFrame(EE12,columns = ['turnstile','DESC','time','total'])\n",
    "EE12_df = EE12_df.dropna().sort_values(by = 'DESC').reindex()\n",
    "EE12_df = EE12_df[~EE12_df.duplicated(['turnstile','time'],keep = 'first').values].groupby(['turnstile','time']).sum().sort_index()\n",
    "first = EE12_df.groupby(level=0).nth(0)\n",
    "last = EE12_df.groupby(level=0).nth(-1)\n",
    "diff12 = pd.concat([first, last], axis=1, join='inner').diff(axis = 1)\n",
    "index_N = diff12[diff12.iloc[:,-1]<0].index\n",
    "dict_ee = dict()\n",
    "for i in index_N:\n",
    "    dict_ee[i] = 0\n",
    "    ee = EE12_df.iloc[EE12_df.index.get_level_values('turnstile') == i].values\n",
    "    value0 = ee[0]\n",
    "    for value in ee[1:]:\n",
    "        if value>=value0:\n",
    "            dict_ee[i]+=value-value0\n",
    "            value0 = value\n",
    "        else:\n",
    "            value0 = value\n",
    "for index in dict_ee.keys():\n",
    "    diff12.ix[index,-1] = dict_ee[index][0]\n",
    "diff12['station'] = list(map(lambda x: x.split('_')[0]+x.split('_')[1],diff12.index))\n",
    "ee2012 = diff12.groupby(['station']).sum()\n",
    "ee2012.columns = ['NA','2012']"
   ]
  },
  {
   "cell_type": "code",
   "execution_count": 111,
   "metadata": {
    "collapsed": false
   },
   "outputs": [
    {
     "data": {
      "text/html": [
       "<div>\n",
       "<table border=\"1\" class=\"dataframe\">\n",
       "  <thead>\n",
       "    <tr style=\"text-align: right;\">\n",
       "      <th></th>\n",
       "      <th>change</th>\n",
       "    </tr>\n",
       "    <tr>\n",
       "      <th>station</th>\n",
       "      <th></th>\n",
       "    </tr>\n",
       "  </thead>\n",
       "  <tbody>\n",
       "    <tr>\n",
       "      <th>R159R164</th>\n",
       "      <td>-0.995230</td>\n",
       "    </tr>\n",
       "    <tr>\n",
       "      <th>B034R264</th>\n",
       "      <td>-0.994504</td>\n",
       "    </tr>\n",
       "    <tr>\n",
       "      <th>R190R038</th>\n",
       "      <td>-0.994043</td>\n",
       "    </tr>\n",
       "    <tr>\n",
       "      <th>PTH04R551</th>\n",
       "      <td>-0.993579</td>\n",
       "    </tr>\n",
       "    <tr>\n",
       "      <th>R175R169</th>\n",
       "      <td>-0.993222</td>\n",
       "    </tr>\n",
       "  </tbody>\n",
       "</table>\n",
       "</div>"
      ],
      "text/plain": [
       "             change\n",
       "station            \n",
       "R159R164  -0.995230\n",
       "B034R264  -0.994504\n",
       "R190R038  -0.994043\n",
       "PTH04R551 -0.993579\n",
       "R175R169  -0.993222"
      ]
     },
     "execution_count": 111,
     "metadata": {},
     "output_type": "execute_result"
    }
   ],
   "source": [
    "station_Change = pd.DataFrame((ee2013.join(ee2012,how='left',lsuffix = 'A')['2013'] - ee2013.join(ee2012,how='left',lsuffix = 'A')['2012'])/ee2013.join(ee2012,how='left',lsuffix = 'A')['2012'],columns = ['change']).sort_values(by = 'change').dropna()\n",
    "station_Change.head()"
   ]
  },
  {
   "cell_type": "code",
   "execution_count": 112,
   "metadata": {
    "collapsed": false
   },
   "outputs": [
    {
     "data": {
      "text/plain": [
       "change   -0.99523\n",
       "Name: R159R164, dtype: float64"
      ]
     },
     "execution_count": 112,
     "metadata": {},
     "output_type": "execute_result"
    }
   ],
   "source": [
    "station_Change.ix[0,:]"
   ]
  },
  {
   "cell_type": "code",
   "execution_count": 113,
   "metadata": {
    "collapsed": false
   },
   "outputs": [
    {
     "data": {
      "text/plain": [
       "change    2513.211111\n",
       "Name: R114R028, dtype: float64"
      ]
     },
     "execution_count": 113,
     "metadata": {},
     "output_type": "execute_result"
    }
   ],
   "source": [
    "station_Change.ix[-1,:]"
   ]
  },
  {
   "cell_type": "code",
   "execution_count": 115,
   "metadata": {
    "collapsed": false
   },
   "outputs": [
    {
     "name": "stdout",
     "output_type": "stream",
     "text": [
      "decease:[('66 ST-LINCOLN',)]\n",
      "---------\n",
      "incease:[('FULTON ST',)]\n"
     ]
    }
   ],
   "source": [
    "with conPre:\n",
    "    cur = conPre.cursor()\n",
    "    cur.execute(\"\"\"select STATION from remote where UNIT = 'R164' AND [C/A] = 'R159'\"\"\")\n",
    "    d_station = cur.fetchall()\n",
    "    print('decease:%s'%d_station)\n",
    "    print(\"---------\")\n",
    "    cur.execute(\"\"\"select STATION from remote where UNIT = 'R028' AND [C/A] = 'R114'\"\"\")\n",
    "    i_station = cur.fetchall()\n",
    "    print('incease:%s'%i_station)   "
   ]
  },
  {
   "cell_type": "markdown",
   "metadata": {},
   "source": [
    "#### 5. What dates are the least busy? Could you identify days on which stations were not operating at full capacity or closed entirely?"
   ]
  },
  {
   "cell_type": "code",
   "execution_count": null,
   "metadata": {
    "collapsed": true
   },
   "outputs": [],
   "source": [
    "start = datetime.datetime.now()\n",
    "with conPre:\n",
    "    cur = conPre.cursor()\n",
    "    cur.execute(\"\"\"TURNSTILE,date,max(ENTRIES_f) AS entries, max(exits_f) as exits from prior \n",
    "    group by turnstile, date\"\"\")\n",
    "    turnstile_daily_pre = cur.fetchall()\n",
    "with conPost:\n",
    "    cur = conPost.cursor()\n",
    "    cur.execute(\"\"\"TURNSTILE,date,max(ENTRIES_f) AS entries, max(exits_f) as exits from post\n",
    "    group by turnstile, date\"\"\")\n",
    "    turnstile_daily_post = cur.fetchall()\n",
    "end = datetime.datetime.now()\n",
    "print('Spend %s seconds'%(end-start).seconds)"
   ]
  },
  {
   "cell_type": "code",
   "execution_count": null,
   "metadata": {
    "collapsed": true
   },
   "outputs": [],
   "source": []
  },
  {
   "cell_type": "markdown",
   "metadata": {},
   "source": [
    "# Visualization"
   ]
  },
  {
   "cell_type": "markdown",
   "metadata": {},
   "source": [
    "#### 1. Plot the daily row counts for data files in Q3 2013."
   ]
  },
  {
   "cell_type": "code",
   "execution_count": 125,
   "metadata": {
    "collapsed": false
   },
   "outputs": [],
   "source": [
    "with conPre:\n",
    "    cur = conPre.cursor()\n",
    "    cur.execute(\"\"\"select DATE, count(*) from prior group by date Having DATE LIKE '%13'\"\"\")\n",
    "    temp = cur.fetchall()\n",
    "daily_rcnt = pd.DataFrame(temp,columns = ['DATE','CNT'])\n",
    "daily_rcnt['Month'] = list(map(lambda x:x.split('-')[0],daily_rcnt['DATE']))\n",
    "daily_rcnt['DATE'] = pd.to_datetime(daily_rcnt['DATE'], format='%m-%d-%y')\n",
    "daily_rcnt = daily_rcnt[((daily_rcnt['Month']=='07') & (daily_rcnt['Month']=='08') & (daily_rcnt['Month']=='09'))]"
   ]
  },
  {
   "cell_type": "code",
   "execution_count": 131,
   "metadata": {
    "collapsed": false
   },
   "outputs": [],
   "source": [
    "daily_rcnt = pd.DataFrame(temp,columns = ['DATE','CNT'])\n",
    "daily_rcnt['Month'] = list(map(lambda x:x.split('-')[0],daily_rcnt['DATE']))\n",
    "daily_rcnt['DATE'] = pd.to_datetime(daily_rcnt['DATE'], format='%m-%d-%y')"
   ]
  },
  {
   "cell_type": "code",
   "execution_count": 143,
   "metadata": {
    "collapsed": false
   },
   "outputs": [
    {
     "data": {
      "text/plain": [
       "<matplotlib.text.Text at 0x56ebb6198>"
      ]
     },
     "execution_count": 143,
     "metadata": {},
     "output_type": "execute_result"
    },
    {
     "data": {
      "image/png": "[encoded data removed]",
      "text/plain": [
       "<matplotlib.figure.Figure at 0x61dca4c50>"
      ]
     },
     "metadata": {},
     "output_type": "display_data"
    }
   ],
   "source": [
    "plt.figure(figsize=(8,4))\n",
    "daily_rcnt[((daily_rcnt['Month']>='07') & (daily_rcnt['Month']<='09'))].set_index('DATE')['CNT'].plot()\n",
    "plt.title('daily row counts in Q3 2013')"
   ]
  },
  {
   "cell_type": "markdown",
   "metadata": {},
   "source": [
    "#### 2. Plot the daily total number of entries & exits across the system for Q3 2013."
   ]
  },
  {
   "cell_type": "code",
   "execution_count": null,
   "metadata": {
    "collapsed": true
   },
   "outputs": [],
   "source": [
    "with conPre:\n",
    "    cur = conPre.cursor()\n",
    "    cur.execute(\"\"\"TURNSTILE,date,max(ENTRIES_f) AS entries, max(exits_f) as exits from prior \n",
    "    group by turnstile, date where date IN ('07%13','08%13','09%13')\"\"\")\n",
    "    turnstile_daily_pre = cur.fetchall()"
   ]
  },
  {
   "cell_type": "markdown",
   "metadata": {
    "collapsed": true
   },
   "source": [
    "#### 3.   Plot the mean and standard deviation of the daily total number of entries & exits for each month in Q3 2013 for station 34 ST-PENN STA"
   ]
  },
  {
   "cell_type": "code",
   "execution_count": null,
   "metadata": {
    "collapsed": true
   },
   "outputs": [],
   "source": [
    "with conPre:\n",
    "    cur = conPre.cursor()\n",
    "    cur.execute(\"\"\"select UNIT,[C/A] from remote where station = '34 ST-PENN STA'\"\"\")\n",
    "    station = cur.fetchall()\n",
    "print(station)"
   ]
  },
  {
   "cell_type": "code",
   "execution_count": null,
   "metadata": {
    "collapsed": true
   },
   "outputs": [],
   "source": [
    "with conPre:\n",
    "    cur = conPre.cursor()\n",
    "    cur.execute(\"\"\"TURNSTILE,date,max(ENTRIES_f) AS entries, max(exits_f) as exits from prior \n",
    "    group by turnstile, date where date IN ('07%13','08%13','09%13') AND turnstile LIKE () \"\"\")\n",
    "    turnstile_daily_pre = cur.fetchall()"
   ]
  },
  {
   "cell_type": "code",
   "execution_count": null,
   "metadata": {
    "collapsed": true
   },
   "outputs": [],
   "source": []
  },
  {
   "cell_type": "markdown",
   "metadata": {},
   "source": [
    "#### 4.   Plot 25/50/75 percentile of the daily total number of entries & exits for each month in Q3 2013 for station 34 ST-PENN STA."
   ]
  },
  {
   "cell_type": "code",
   "execution_count": null,
   "metadata": {
    "collapsed": true
   },
   "outputs": [],
   "source": []
  },
  {
   "cell_type": "markdown",
   "metadata": {},
   "source": [
    "#### 5. Plot the daily number of closed stations and number of stations that were not operating at full capacity in Q3 2013"
   ]
  },
  {
   "cell_type": "code",
   "execution_count": null,
   "metadata": {
    "collapsed": true
   },
   "outputs": [],
   "source": []
  }
 ],
 "metadata": {
  "anaconda-cloud": {},
  "kernelspec": {
   "display_name": "Python [default]",
   "language": "python",
   "name": "python3"
  },
  "language_info": {
   "codemirror_mode": {
    "name": "ipython",
    "version": 3
   },
   "file_extension": ".py",
   "mimetype": "text/x-python",
   "name": "python",
   "nbconvert_exporter": "python",
   "pygments_lexer": "ipython3",
   "version": "3.5.2"
  }
 },
 "nbformat": 4,
 "nbformat_minor": 1
}
