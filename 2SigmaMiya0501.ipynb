{
 "cells": [
  {
   "cell_type": "code",
   "execution_count": 1,
   "metadata": {
    "collapsed": true
   },
   "outputs": [],
   "source": [
    "from selenium import webdriver\n",
    "from bs4 import BeautifulSoup\n",
    "import os\n",
    "import pandas as pd\n",
    "import time\n",
    "import datetime\n",
    "import re\n",
    "import sqlite3 as lite\n",
    "import matplotlib.pyplot as plt\n",
    "%matplotlib inline\n",
    "import seaborn "
   ]
  },
  {
   "cell_type": "markdown",
   "metadata": {},
   "source": [
    "# Data Collection and Transformation"
   ]
  },
  {
   "cell_type": "code",
   "execution_count": 2,
   "metadata": {
    "collapsed": false
   },
   "outputs": [
    {
     "name": "stdout",
     "output_type": "stream",
     "text": [
      "http://web.mta.info/developers/data/nyct/turnstile/turnstile_170429.txt\n",
      "100505\n"
     ]
    }
   ],
   "source": [
    "url = 'http://web.mta.info/developers/turnstile.html'\n",
    "chromedriver = \"/Users/Miya/Downloads/chromedriver.exe\"\n",
    "os.environ[\"webdriver.chrome.driver\"] = chromedriver\n",
    "driver = webdriver.Chrome(chromedriver)\n",
    "driver.get(url)\n",
    "html_source = driver.page_source\n",
    "soup = BeautifulSoup(html_source, 'html.parser')\n",
    "# extract file link\n",
    "pattern = re.compile('^data.')\n",
    "data_list =  []\n",
    "for link in soup.find_all('a', href=True):\n",
    "    if re.match(pattern,link['href']):\n",
    "        data_list.append('http://web.mta.info/developers/'+link['href'])\n",
    "#check: data should range from 05/05/2010 to 04/29/2017\n",
    "print(data_list[0])\n",
    "print(data_list[-1][-10:-4])"
   ]
  },
  {
   "cell_type": "markdown",
   "metadata": {},
   "source": [
    "Two data schemas for before and after 10/18/14. "
   ]
  },
  {
   "cell_type": "code",
   "execution_count": 3,
   "metadata": {
    "collapsed": false
   },
   "outputs": [
    {
     "name": "stdout",
     "output_type": "stream",
     "text": [
      "133\n"
     ]
    }
   ],
   "source": [
    "for i, v in enumerate(data_list):\n",
    "    if v[-10:] == '141011.txt':\n",
    "        print(i)"
   ]
  },
  {
   "cell_type": "code",
   "execution_count": null,
   "metadata": {
    "collapsed": true
   },
   "outputs": [],
   "source": [
    "data_list_prior = data_list[133:]\n",
    "data_list_post = data_list[:134]"
   ]
  },
  {
   "cell_type": "markdown",
   "metadata": {},
   "source": [
    "#### Create two tables to store the data "
   ]
  },
  {
   "cell_type": "code",
   "execution_count": null,
   "metadata": {
    "collapsed": true
   },
   "outputs": [],
   "source": [
    "conPost = lite.connect('post.db')  \n",
    "conPre = lite.connect('pre.db')"
   ]
  },
  {
   "cell_type": "markdown",
   "metadata": {},
   "source": [
    "**A.** Collect data ** AFTER** 10/18/14 "
   ]
  },
  {
   "cell_type": "code",
   "execution_count": null,
   "metadata": {
    "collapsed": true
   },
   "outputs": [],
   "source": [
    "record_cnt = 0  \n",
    "for link in data_list_post:\n",
    "    data = pd.read_table(link, sep=',')\n",
    "    print('%s:%s rows %s columns' % (link[-10:-4],data.shape[0], data.shape[1])) #printing out values makes me feel safe....\n",
    "    record_cnt += data.shape[0]\n",
    "    data.to_sql(name='post', con=conPost, flavor='sqlite', if_exists='append')"
   ]
  },
  {
   "cell_type": "markdown",
   "metadata": {},
   "source": [
    "Check we don't miss anything"
   ]
  },
  {
   "cell_type": "code",
   "execution_count": 23,
   "metadata": {
    "collapsed": false
   },
   "outputs": [
    {
     "name": "stdout",
     "output_type": "stream",
     "text": [
      "[(25304899,)]\n",
      "25304899\n"
     ]
    }
   ],
   "source": [
    "with conPost:\n",
    "    cur = conPost.cursor()\n",
    "    cur.execute(\"\"\"select count(*) from post\"\"\")\n",
    "    cnt = cur.fetchall()\n",
    "    print(cnt)\n",
    "    print(record_cnt)"
   ]
  },
  {
   "cell_type": "markdown",
   "metadata": {},
   "source": [
    "**B.** Collec data ** BEFORE** 10/18/14 "
   ]
  },
  {
   "cell_type": "markdown",
   "metadata": {},
   "source": [
    "record_cnt = 0 \n",
    "col_names = [\"C/A\",\"UNIT\",\"SCP\",\"DATE\",\"TIME\",\"DESC\",\"ENTRIES\",\"EXITS\"]\n",
    "\n",
    "for link in data_list_prior:\n",
    "    for i in range(3,39,5):\n",
    "        data = pd.read_table(link, sep=',',header = None,usecols = [0,1,2,i,i+1,i+2,i+3,i+4],names = col_names)\n",
    "        print('%s:%s rows %s columns' % (link[-10:-4],data.shape[0], data.shape[1]))\n",
    "        record_cnt += data.shape[0]\n",
    "        data.to_sql(name='prePart', con=conPre, flavor='sqlite', if_exists='append')\n",
    "\n",
    "with conPre:\n",
    "    cur = conPre.cursor()\n",
    "    cur.execute(\"\"\"select count(*) from prePart\"\"\")\n",
    "    cnt = cur.fetchall()"
   ]
  },
  {
   "cell_type": "code",
   "execution_count": 5,
   "metadata": {
    "collapsed": true
   },
   "outputs": [
    {
     "name": "stdout",
     "output_type": "stream",
     "text": [
      "141011:29797 rows 43 columns\n",
      "141004:30125 rows 43 columns\n",
      "140927:29972 rows 43 columns\n",
      "140920:29628 rows 43 columns\n",
      "140913:29676 rows 43 columns\n",
      "140906:30081 rows 43 columns\n",
      "140830:29421 rows 43 columns\n",
      "140823:29791 rows 43 columns\n",
      "140816:29448 rows 43 columns\n",
      "140809:29639 rows 43 columns\n",
      "140802:29396 rows 43 columns\n",
      "140726:29450 rows 43 columns\n",
      "140719:29432 rows 43 columns\n",
      "140712:29068 rows 43 columns\n",
      "140705:28769 rows 43 columns\n",
      "140628:29375 rows 43 columns\n",
      "140621:29284 rows 43 columns\n",
      "140614:29418 rows 43 columns\n",
      "140607:29728 rows 43 columns\n",
      "140531:29294 rows 43 columns\n",
      "140524:29211 rows 43 columns\n",
      "140517:29205 rows 43 columns\n",
      "140510:29419 rows 43 columns\n",
      "140503:29298 rows 43 columns\n",
      "140426:29492 rows 43 columns\n",
      "140419:29821 rows 43 columns\n",
      "140412:29752 rows 43 columns\n",
      "140405:29891 rows 43 columns\n",
      "140329:29515 rows 43 columns\n",
      "140322:29299 rows 43 columns\n",
      "140315:28789 rows 43 columns\n",
      "140308:29204 rows 43 columns\n",
      "140301:29317 rows 43 columns\n",
      "140222:28973 rows 43 columns\n",
      "140215:29390 rows 43 columns\n",
      "140208:29247 rows 43 columns\n",
      "140201:29967 rows 43 columns\n",
      "140125:29126 rows 43 columns\n",
      "140118:29595 rows 43 columns\n",
      "140111:29004 rows 43 columns\n",
      "140104:28624 rows 43 columns\n",
      "131228:28746 rows 43 columns\n",
      "131221:29093 rows 43 columns\n",
      "131214:29346 rows 43 columns\n",
      "131207:29147 rows 43 columns\n",
      "131130:28762 rows 43 columns\n",
      "131123:29474 rows 43 columns\n",
      "131116:29489 rows 43 columns\n",
      "131109:29844 rows 43 columns\n",
      "131102:30194 rows 43 columns\n",
      "131026:29912 rows 43 columns\n",
      "131019:29451 rows 43 columns\n",
      "131012:29870 rows 43 columns\n",
      "131005:29723 rows 43 columns\n",
      "130928:29585 rows 43 columns\n",
      "130921:29202 rows 43 columns\n",
      "130914:29301 rows 43 columns\n",
      "130907:31855 rows 43 columns\n",
      "130831:29477 rows 43 columns\n",
      "130824:29160 rows 43 columns\n",
      "130817:29515 rows 43 columns\n",
      "130810:29190 rows 43 columns\n",
      "130803:29427 rows 43 columns\n",
      "130727:29374 rows 43 columns\n",
      "130720:29287 rows 43 columns\n",
      "130713:29504 rows 43 columns\n",
      "130706:30965 rows 43 columns\n",
      "130629:29638 rows 43 columns\n",
      "130622:29525 rows 43 columns\n",
      "130615:30187 rows 43 columns\n",
      "130608:29640 rows 43 columns\n",
      "130601:29943 rows 43 columns\n",
      "130525:29509 rows 43 columns\n",
      "130518:29541 rows 43 columns\n",
      "130511:35392 rows 43 columns\n",
      "130504:29429 rows 43 columns\n",
      "130427:29014 rows 43 columns\n",
      "130420:29612 rows 43 columns\n",
      "130413:30023 rows 43 columns\n",
      "130406:31266 rows 43 columns\n",
      "130330:30161 rows 43 columns\n",
      "130323:31717 rows 43 columns\n",
      "130316:29140 rows 43 columns\n",
      "130309:29399 rows 43 columns\n",
      "130302:31207 rows 43 columns\n",
      "130223:29338 rows 43 columns\n",
      "130216:30483 rows 43 columns\n",
      "130209:29513 rows 43 columns\n",
      "130202:30862 rows 43 columns\n",
      "130126:28804 rows 43 columns\n",
      "130119:29073 rows 43 columns\n",
      "130112:28629 rows 43 columns\n",
      "130105:27667 rows 43 columns\n",
      "121229:27987 rows 43 columns\n",
      "121222:28344 rows 43 columns\n",
      "121215:28434 rows 43 columns\n",
      "121208:27732 rows 43 columns\n",
      "121201:28057 rows 43 columns\n",
      "121124:27357 rows 43 columns\n",
      "121117:27484 rows 43 columns\n",
      "121110:25969 rows 43 columns\n",
      "121103:23442 rows 43 columns\n",
      "121027:29961 rows 43 columns\n",
      "121020:29013 rows 43 columns\n",
      "121013:28984 rows 43 columns\n",
      "121006:28646 rows 43 columns\n",
      "120929:28751 rows 43 columns\n",
      "120922:28692 rows 43 columns\n",
      "120915:28667 rows 43 columns\n",
      "120908:28379 rows 43 columns\n",
      "120901:28693 rows 43 columns\n",
      "120825:28912 rows 43 columns\n",
      "120818:29122 rows 43 columns\n",
      "120811:28972 rows 43 columns\n",
      "120804:29118 rows 43 columns\n",
      "120728:29316 rows 43 columns\n",
      "120721:29044 rows 43 columns\n"
     ]
    },
    {
     "name": "stderr",
     "output_type": "stream",
     "text": [
      "C:\\Users\\Miya\\Anaconda3\\lib\\site-packages\\IPython\\core\\interactiveshell.py:2717: DtypeWarning: Columns (6,7,11,12,16,17,21,22,26,27,31,36,37,42) have mixed types. Specify dtype option on import or set low_memory=False.\n",
      "  interactivity=interactivity, compiler=compiler, result=result)\n"
     ]
    },
    {
     "name": "stdout",
     "output_type": "stream",
     "text": [
      "120714:28879 rows 43 columns\n",
      "120707:28486 rows 43 columns\n",
      "120630:28588 rows 43 columns\n",
      "120623:28292 rows 43 columns\n",
      "120616:28454 rows 43 columns\n",
      "120609:28325 rows 43 columns\n",
      "120602:28353 rows 43 columns\n",
      "120526:29036 rows 43 columns\n",
      "120519:28444 rows 43 columns\n",
      "120512:28633 rows 43 columns\n"
     ]
    },
    {
     "name": "stderr",
     "output_type": "stream",
     "text": [
      "C:\\Users\\Miya\\Anaconda3\\lib\\site-packages\\IPython\\core\\interactiveshell.py:2717: DtypeWarning: Columns (42) have mixed types. Specify dtype option on import or set low_memory=False.\n",
      "  interactivity=interactivity, compiler=compiler, result=result)\n"
     ]
    },
    {
     "name": "stdout",
     "output_type": "stream",
     "text": [
      "120505:30042 rows 43 columns\n",
      "120428:34120 rows 43 columns\n",
      "120421:28758 rows 43 columns\n",
      "120414:31160 rows 43 columns\n",
      "120407:33171 rows 43 columns\n",
      "120331:31028 rows 43 columns\n",
      "120324:28317 rows 43 columns\n",
      "120317:27865 rows 43 columns\n",
      "120310:28310 rows 43 columns\n",
      "120303:28289 rows 43 columns\n",
      "120225:28129 rows 43 columns\n",
      "120218:28089 rows 43 columns\n",
      "120211:28295 rows 43 columns\n",
      "120204:28516 rows 43 columns\n",
      "120128:28055 rows 43 columns\n",
      "120121:27851 rows 43 columns\n",
      "120114:27980 rows 43 columns\n",
      "120107:27733 rows 43 columns\n",
      "111231:27577 rows 43 columns\n",
      "111224:27863 rows 43 columns\n",
      "111219:30800 rows 43 columns\n",
      "111210:29210 rows 43 columns\n",
      "111203:27944 rows 43 columns\n",
      "111126:27849 rows 43 columns\n",
      "111119:29965 rows 43 columns\n",
      "111112:27956 rows 43 columns\n",
      "111105:29641 rows 43 columns\n",
      "111029:29103 rows 43 columns\n",
      "111022:29308 rows 43 columns\n",
      "111015:29124 rows 43 columns\n",
      "111008:29390 rows 43 columns\n",
      "111001:29647 rows 43 columns\n",
      "110924:29652 rows 43 columns\n",
      "110917:29465 rows 43 columns\n",
      "110910:29282 rows 43 columns\n",
      "110903:28642 rows 43 columns\n",
      "110827:28564 rows 43 columns\n",
      "110820:30453 rows 43 columns\n",
      "110813:28516 rows 43 columns\n",
      "110806:28671 rows 43 columns\n",
      "110730:32190 rows 43 columns\n",
      "110723:28536 rows 43 columns\n",
      "110716:28500 rows 43 columns\n",
      "110709:28068 rows 43 columns\n",
      "110702:29456 rows 43 columns\n",
      "110625:29003 rows 43 columns\n",
      "110618:28878 rows 43 columns\n",
      "110611:28923 rows 43 columns\n",
      "110604:29022 rows 43 columns\n",
      "110528:29501 rows 43 columns\n",
      "110521:29130 rows 43 columns\n",
      "110514:28216 rows 43 columns\n",
      "110507:28485 rows 43 columns\n",
      "110430:28883 rows 43 columns\n",
      "110423:28693 rows 43 columns\n",
      "110416:30251 rows 43 columns\n",
      "110409:28942 rows 43 columns\n",
      "110402:28709 rows 43 columns\n",
      "110326:28646 rows 43 columns\n",
      "110319:27890 rows 43 columns\n",
      "110312:28121 rows 43 columns\n",
      "110305:27821 rows 43 columns\n",
      "110226:27730 rows 43 columns\n",
      "110219:27966 rows 43 columns\n",
      "110212:28189 rows 43 columns\n",
      "110205:28168 rows 43 columns\n",
      "110129:28675 rows 43 columns\n",
      "110122:28064 rows 43 columns\n",
      "110115:28212 rows 43 columns\n",
      "110108:29265 rows 43 columns\n",
      "110101:27781 rows 43 columns\n",
      "101225:28707 rows 43 columns\n",
      "101218:28589 rows 43 columns\n",
      "101211:28308 rows 43 columns\n",
      "101204:28185 rows 43 columns\n",
      "101127:27683 rows 43 columns\n",
      "101120:27884 rows 43 columns\n",
      "101113:27393 rows 43 columns\n",
      "101106:28391 rows 43 columns\n",
      "101030:29063 rows 43 columns\n",
      "101023:30420 rows 43 columns\n",
      "101016:29122 rows 43 columns\n",
      "101009:28379 rows 43 columns\n",
      "101002:29007 rows 43 columns\n",
      "100925:28378 rows 43 columns\n",
      "100918:29058 rows 43 columns\n",
      "100911:29167 rows 43 columns\n",
      "100904:27729 rows 43 columns\n",
      "100828:27506 rows 43 columns\n",
      "100821:28541 rows 43 columns\n",
      "100814:27477 rows 43 columns\n",
      "100807:27872 rows 43 columns\n",
      "100731:29411 rows 43 columns\n",
      "100724:27838 rows 43 columns\n",
      "100717:27585 rows 43 columns\n",
      "100710:27807 rows 43 columns\n",
      "100703:28443 rows 43 columns\n",
      "100626:28068 rows 43 columns\n",
      "100619:28085 rows 43 columns\n",
      "100612:29945 rows 43 columns\n",
      "100605:31661 rows 43 columns\n",
      "100522:29061 rows 43 columns\n",
      "100515:29255 rows 43 columns\n",
      "100508:27973 rows 43 columns\n",
      "100505:31741 rows 43 columns\n"
     ]
    },
    {
     "ename": "OperationalError",
     "evalue": "no such table: prior",
     "output_type": "error",
     "traceback": [
      "\u001b[0;31m---------------------------------------------------------------------------\u001b[0m",
      "\u001b[0;31mOperationalError\u001b[0m                          Traceback (most recent call last)",
      "\u001b[0;32m<ipython-input-5-37306006d437>\u001b[0m in \u001b[0;36m<module>\u001b[0;34m()\u001b[0m\n\u001b[1;32m     17\u001b[0m \u001b[1;32mwith\u001b[0m \u001b[0mconPre\u001b[0m\u001b[1;33m:\u001b[0m\u001b[1;33m\u001b[0m\u001b[0m\n\u001b[1;32m     18\u001b[0m     \u001b[0mcur\u001b[0m \u001b[1;33m=\u001b[0m \u001b[0mconPre\u001b[0m\u001b[1;33m.\u001b[0m\u001b[0mcursor\u001b[0m\u001b[1;33m(\u001b[0m\u001b[1;33m)\u001b[0m\u001b[1;33m\u001b[0m\u001b[0m\n\u001b[0;32m---> 19\u001b[0;31m     \u001b[0mcur\u001b[0m\u001b[1;33m.\u001b[0m\u001b[0mexecute\u001b[0m\u001b[1;33m(\u001b[0m\u001b[1;34m\"\"\"select count(*) from prior\"\"\"\u001b[0m\u001b[1;33m)\u001b[0m\u001b[1;33m\u001b[0m\u001b[0m\n\u001b[0m\u001b[1;32m     20\u001b[0m     \u001b[0mcnt\u001b[0m \u001b[1;33m=\u001b[0m \u001b[0mcur\u001b[0m\u001b[1;33m.\u001b[0m\u001b[0mfetchall\u001b[0m\u001b[1;33m(\u001b[0m\u001b[1;33m)\u001b[0m\u001b[1;33m\u001b[0m\u001b[0m\n",
      "\u001b[0;31mOperationalError\u001b[0m: no such table: prior"
     ]
    }
   ],
   "source": [
    "record_cnt = 0 \n",
    "col_names = [\"C/A\",\"UNIT\",\"SCP\",\"DATE1\",\"TIME1\",\"DESC1\",\"ENTRIES1\",\"EXITS1\",\n",
    "             \"DATE2\",\"TIME2\",\"DESC2\",\"ENTRIES2\",\"EXITS2\",\n",
    "             \"DATE3\",\"TIME3\",\"DESC3\",\"ENTRIES3\",\"EXITS3\",\n",
    "             \"DATE4\",\"TIME4\",\"DESC4\",\"ENTRIES4\",\"EXITS4\",\n",
    "             \"DATE5\",\"TIME5\",\"DESC5\",\"ENTRIES5\",\"EXITS5\",\n",
    "             \"DATE6\",\"TIME6\",\"DESC6\",\"ENTRIES6\",\"EXITS6\",\n",
    "             \"DATE7\",\"TIME7\",\"DESC7\",\"ENTRIES7\",\"EXITS7\",\n",
    "             \"DATE8\",\"TIME8\",\"DESC8\",\"ENTRIES8\",\"EXITS8\"]\n",
    "\n",
    "for link in data_list_prior:\n",
    "    df = pd.read_table(link, sep=',',header = None,names = col_names)\n",
    "    print('%s:%s rows %s columns' % (link[-10:-4],df.shape[0], df.shape[1]))\n",
    "    record_cnt += df.shape[0]\n",
    "    df.to_sql(name='prePart', con=conPre, flavor='sqlite', if_exists='append')"
   ]
  },
  {
   "cell_type": "code",
   "execution_count": 7,
   "metadata": {
    "collapsed": true
   },
   "outputs": [],
   "source": [
    "with conPre:\n",
    "    cur = conPre.cursor()\n",
    "    cur.execute(\"\"\"select count(*) from prePart\"\"\")\n",
    "    cnt = cur.fetchall()  "
   ]
  },
  {
   "cell_type": "code",
   "execution_count": 8,
   "metadata": {
    "collapsed": false
   },
   "outputs": [
    {
     "name": "stdout",
     "output_type": "stream",
     "text": [
      "[(6747078,)]\n",
      "6747078\n"
     ]
    }
   ],
   "source": [
    "print(cnt)\n",
    "print(record_cnt)"
   ]
  },
  {
   "cell_type": "markdown",
   "metadata": {
    "collapsed": false
   },
   "source": [
    "with conPre:\n",
    "    cur = conPre.cursor()\n",
    "    cur.execute(\"\"\"Create table prior AS select [C/A],UNIT,SCP,DATE1 AS DATE,TIME1 AS TIME,DESC1 AS DESC,ENTRIES1 AS ENTRIES,EXITS1 AS EXITS from prePart \n",
    "    UNION ALL \n",
    "    select [C/A],UNIT,SCP,DATE2 AS DATE,TIME2 AS TIME,DESC2 AS DESC,ENTRIES2 AS ENTRIES,EXITS2 AS EXITS from prePart \n",
    "    UNION ALL \n",
    "    select [C/A],UNIT,SCP,DATE3 AS DATE,TIME3 AS TIME,DESC3 AS DESC,ENTRIES3 AS ENTRIES,EXITS3 AS EXITS from prePart \n",
    "    UNION ALL \n",
    "    select [C/A],UNIT,SCP,DATE4 AS DATE,TIME4 AS TIME,DESC4 AS DESC,ENTRIES4 AS ENTRIES,EXITS4 AS EXITS from prePart \n",
    "    UNION ALL \n",
    "    select [C/A],UNIT,SCP,DATE5 AS DATE,TIME5 AS TIME,DESC5 AS DESC,ENTRIES5 AS ENTRIES,EXITS5 AS EXITS from prePart \n",
    "    UNION ALL \n",
    "    select [C/A],UNIT,SCP,DATE6 AS DATE,TIME6 AS TIME,DESC6 AS DESC,ENTRIES6 AS ENTRIES,EXITS6 AS EXITS from prePart \n",
    "    UNION ALL \n",
    "    select [C/A],UNIT,SCP,DATE7 AS DATE,TIME7 AS TIME,DESC7 AS DESC,ENTRIES7 AS ENTRIES,EXITS7 AS EXITS from prePart \n",
    "    UNION ALL \n",
    "    select [C/A],UNIT,SCP,DATE8 AS DATE,TIME8 AS TIME,DESC8 AS DESC,ENTRIES8 AS ENTRIES,EXITS8 AS EXITS from prePart\"\"\")"
   ]
  },
  {
   "cell_type": "markdown",
   "metadata": {
    "collapsed": false
   },
   "source": [
    "with conPre:\n",
    "    cur = conPre.cursor()\n",
    "    cur.execute(\"\"\"select count(*) from prior\"\"\")\n",
    "    cnt = cur.fetchall()\n",
    "print(cnt)"
   ]
  },
  {
   "cell_type": "markdown",
   "metadata": {},
   "source": [
    "#### Add TURNSTILE and modify data type"
   ]
  },
  {
   "cell_type": "code",
   "execution_count": null,
   "metadata": {
    "collapsed": true
   },
   "outputs": [],
   "source": [
    "with conPre:\n",
    "    cur = conPre.cursor()\n",
    "    cur.execute(\"\"\"UPDATE prior set ENTRIES = CAST(ENTRIES as real)\"\"\")\n",
    "    cur.execute(\"\"\"UPDATE prior set EXITS = CAST(EXITS as real)\"\"\")"
   ]
  },
  {
   "cell_type": "code",
   "execution_count": null,
   "metadata": {
    "collapsed": true
   },
   "outputs": [],
   "source": [
    "with conPre:\n",
    "    cur = conPre.cursor()\n",
    "    cur.execute(\"\"\"create TABLE pre AS select *, [C/A] || '-' || UNIT || '-' || SCP AS TURNSTILE from prior\"\"\")"
   ]
  },
  {
   "cell_type": "markdown",
   "metadata": {},
   "source": [
    "**C.** Collect data about Remote Unit/Control Area/Station Name Key"
   ]
  },
  {
   "cell_type": "code",
   "execution_count": 15,
   "metadata": {
    "collapsed": false
   },
   "outputs": [
    {
     "name": "stdout",
     "output_type": "stream",
     "text": [
      "[(768,)]\n"
     ]
    }
   ],
   "source": [
    "col_names = [\"UNIT\",'C/A','STATION','LINENAME','DIVISION']\n",
    "remote = pd.read_excel(\"http://web.mta.info/developers/resources/nyct/turnstile/Remote-Booth-Station.xls\", names=col_names).drop_duplicates(['UNIT','C/A'])\n",
    "remote.to_sql(name='remote', con=conPre, flavor='sqlite', if_exists='replace')\n",
    "\n",
    "with conPre:\n",
    "    cur = conPre.cursor()\n",
    "    cur.execute(\"\"\"select count(*) from remote\"\"\")\n",
    "    cnt = cur.fetchall()\n",
    "    print(cnt)"
   ]
  },
  {
   "cell_type": "code",
   "execution_count": null,
   "metadata": {
    "collapsed": true
   },
   "outputs": [],
   "source": []
  },
  {
   "cell_type": "markdown",
   "metadata": {},
   "source": [
    "Now we have two databases: post.db and pre.db\n",
    "\n",
    "1. **post.db** has **one** table called **post**, which stores complete information about data after 10/18/14;\n",
    "\n",
    "2. **pre.db** has **two** tables called **remote and prior**;"
   ]
  },
  {
   "cell_type": "markdown",
   "metadata": {},
   "source": [
    "** schemas of tables:**"
   ]
  },
  {
   "cell_type": "code",
   "execution_count": 16,
   "metadata": {
    "collapsed": false
   },
   "outputs": [
    {
     "name": "stdout",
     "output_type": "stream",
     "text": [
      "[('CREATE TABLE prior(\\n  \"C/A\" TEXT,\\n  UNIT TEXT,\\n  SCP TEXT,\\n  DATE TEXT,\\n  TIME TEXT,\\n  \"DESC\" TEXT,\\n  ENTRIES INT,\\n  EXITS INT\\n)',)]\n"
     ]
    }
   ],
   "source": [
    "with conPre:\n",
    "    cur = conPre.cursor()\n",
    "    cur.execute(\"\"\"select sql from sqlite_master where type = 'table' and name = 'prior'\"\"\")\n",
    "    desc = cur.fetchall()\n",
    "    print(desc)"
   ]
  },
  {
   "cell_type": "code",
   "execution_count": 23,
   "metadata": {
    "collapsed": false
   },
   "outputs": [
    {
     "name": "stdout",
     "output_type": "stream",
     "text": [
      "[('CREATE TABLE \"post\" (\\n\"index\" INTEGER,\\n  \"C/A\" TEXT,\\n  \"UNIT\" TEXT,\\n  \"SCP\" TEXT,\\n  \"STATION\" TEXT,\\n  \"LINENAME\" TEXT,\\n  \"DIVISION\" TEXT,\\n  \"DATE\" TEXT,\\n  \"TIME\" TEXT,\\n  \"DESC\" TEXT,\\n  \"ENTRIES\" INTEGER,\\n  \"EXITS                                                               \" INTEGER\\n)',)]\n"
     ]
    }
   ],
   "source": [
    "with conPost:\n",
    "    cur = conPost.cursor()\n",
    "    cur.execute(\"\"\"select sql from sqlite_master where type = 'table' and name = 'post'\"\"\")\n",
    "    desc = cur.fetchall()\n",
    "    print(desc)"
   ]
  },
  {
   "cell_type": "markdown",
   "metadata": {},
   "source": [
    "** Sanity Check:** Missing Data\n",
    "\n",
    "Turntiles are missing somewhere"
   ]
  },
  {
   "cell_type": "code",
   "execution_count": null,
   "metadata": {
    "collapsed": false
   },
   "outputs": [],
   "source": [
    "with conPre:\n",
    "    cur = conPre.cursor()\n",
    "    cur.execute(\"\"\"select count([C/A]), COUNT(SCP),count(unit) from prior\"\"\")\n",
    "    cnt = cur.fetchall()\n",
    "    print(cnt)"
   ]
  },
  {
   "cell_type": "markdown",
   "metadata": {},
   "source": [
    "# Data Analysis\n",
    "\n",
    "#### 1. Which station has the most number of units?\n",
    "    \n",
    "   **Answer：** 86 ST  "
   ]
  },
  {
   "cell_type": "code",
   "execution_count": 406,
   "metadata": {
    "collapsed": false
   },
   "outputs": [
    {
     "name": "stdout",
     "output_type": "stream",
     "text": [
      "[('86 ST', 5)]\n",
      "Spend 0 seconds\n"
     ]
    }
   ],
   "source": [
    "start = datetime.datetime.now()\n",
    "with conPre:\n",
    "    cur = conPre.cursor()\n",
    "    cur.execute(\"\"\"select STATION, COUNT(DISTINCT unit) from remote group by STATION order by count(distinct unit) desc limit 1\"\"\")\n",
    "    top_station = cur.fetchall()\n",
    "print(top_station)\n",
    "end = datetime.datetime.now()\n",
    "print('Spend %s seconds'%(end-start).seconds)"
   ]
  },
  {
   "cell_type": "markdown",
   "metadata": {},
   "source": [
    "#### 2. What is the total number of entries & exits across the subway system for August 1, 2013?\n",
    "\n",
    "   **Answer：** \n",
    "   \n",
    "   Due to the complexity of data recording, there are different ways to define daily total number of entries & exits. \n",
    "   \n",
    "   Here I tried two methods:\n",
    "   \n",
    "   One is for each turnstile, daily registration is calculated by max(today) - max(previous); \n",
    "   \n",
    "   Another is for each turnstile, daily registration is calculated by Last record(today) - first record(today). \n",
    "   \n",
    "   Those two methods gave me two results: **9958949** for the first and **9636595** for the second.\n",
    "   \n",
    "   Comparing the two, I chose the first method for its simplicity."
   ]
  },
  {
   "cell_type": "markdown",
   "metadata": {},
   "source": [
    "###### Solution A:"
   ]
  },
  {
   "cell_type": "code",
   "execution_count": 3,
   "metadata": {
    "collapsed": false
   },
   "outputs": [
    {
     "name": "stdout",
     "output_type": "stream",
     "text": [
      "Spend 123 seconds\n"
     ]
    }
   ],
   "source": [
    "start = datetime.datetime.now()\n",
    "with conPre:\n",
    "    cur = conPre.cursor()\n",
    "    cur.execute(\"\"\"select Turnstile,date,max(ENTRIES) AS entries, max(exits) as exits from pre\n",
    "    group by Turnstile, date Having DATE IN ('08-01-13','07-31-13') AND DESC = 'REGULAR'\"\"\")\n",
    "    EE080113 = cur.fetchall()\n",
    "end = datetime.datetime.now()\n",
    "print('Spend %s seconds'%(end-start).seconds)"
   ]
  },
  {
   "cell_type": "code",
   "execution_count": 19,
   "metadata": {
    "collapsed": false
   },
   "outputs": [
    {
     "data": {
      "text/plain": [
       "9958949.0"
      ]
     },
     "execution_count": 19,
     "metadata": {},
     "output_type": "execute_result"
    }
   ],
   "source": [
    "EE080113_df = pd.DataFrame(EE080113,columns = ['turnstile','date','entries','exits'])\n",
    "sum(list(filter(lambda x:x>0,EE080113_df.groupby(['turnstile','date']).sum().sum(axis = 1).groupby(level = 0).diff().dropna().values)))"
   ]
  },
  {
   "cell_type": "markdown",
   "metadata": {},
   "source": [
    "##### Solution B:"
   ]
  },
  {
   "cell_type": "code",
   "execution_count": null,
   "metadata": {
    "collapsed": true
   },
   "outputs": [],
   "source": [
    "start = datetime.datetime.now()\n",
    "with conPre:\n",
    "    cur = conPre.cursor()\n",
    "    cur.execute(\"\"\"select TURNSTILE,DESC,TIME,(ENTRIES+EXITS) AS TOTAL \\\n",
    "    from prior where DATE = '08-01-13' AND DESC IN ('REGULAR','RECOVR AUD')\n",
    "    UNION ALL\n",
    "    select TURNSTILE,DESC,'24:00:00' AS TIME,(ENTRIES+EXITS) AS TOTAL \\\n",
    "    from prior where DATE = '08-02-13' AND TIME = '00:00:00'AND DESC IN ('REGULAR','RECOVR AUD')\"\"\")\n",
    "    EE080113 = cur.fetchall()"
   ]
  },
  {
   "cell_type": "code",
   "execution_count": 475,
   "metadata": {
    "collapsed": false
   },
   "outputs": [
    {
     "name": "stdout",
     "output_type": "stream",
     "text": [
      "31947\n",
      "31947\n",
      "30666\n",
      "total          0.0\n",
      "total   -1236270.0\n",
      "dtype: float64\n",
      "Spend 74 seconds\n"
     ]
    }
   ],
   "source": [
    "start = datetime.datetime.now()\n",
    "with conPre:\n",
    "    cur = conPre.cursor()\n",
    "    cur.execute(\"\"\"select TURNSTILE,DESC,TIME,(ENTRIES+EXITS) AS TOTAL \\\n",
    "    from pre where DATE = '08-01-13' AND DESC IN ('REGULAR','RECOVR AUD')\n",
    "    UNION ALL\n",
    "    select TURNSTILE,DESC,'24:00:00' AS TIME,(ENTRIES+EXITS) AS TOTAL \\\n",
    "    from pre where DATE = '08-02-13' AND TIME = '00:00:00'AND DESC IN ('REGULAR','RECOVR AUD')\"\"\")\n",
    "    EE080113 = cur.fetchall()\n",
    "end = datetime.datetime.now()\n",
    "EE080113_df = pd.DataFrame(EE080113,columns = ['turnstile','DESC','time','total'])\n",
    "print(len(EE080113_df))\n",
    "EE080113_df = EE080113_df.dropna().sort_values(by = 'DESC').reindex()\n",
    "print(len(EE080113_df))\n",
    "## recover audit\n",
    "EE080113_df = EE080113_df[~EE080113_df.duplicated(['turnstile','time'],keep = 'first').values].groupby(['turnstile','time']).sum().sort_index()\n",
    "print(len(EE080113_df))\n",
    "first = EE080113_df.groupby(level=0).nth(0)\n",
    "last = EE080113_df.groupby(level=0).nth(-1)\n",
    "diff = pd.concat([first, last], axis=1, join='inner').diff(axis = 1)\n",
    "print(diff.sum())\n",
    "print('Spend %s seconds'%(end-start).seconds)"
   ]
  },
  {
   "cell_type": "markdown",
   "metadata": {},
   "source": [
    "Why the value is negative? "
   ]
  },
  {
   "cell_type": "code",
   "execution_count": 482,
   "metadata": {
    "collapsed": false
   },
   "outputs": [
    {
     "data": {
      "text/html": [
       "<div>\n",
       "<table border=\"1\" class=\"dataframe\">\n",
       "  <thead>\n",
       "    <tr style=\"text-align: right;\">\n",
       "      <th></th>\n",
       "      <th>total</th>\n",
       "      <th>total</th>\n",
       "    </tr>\n",
       "    <tr>\n",
       "      <th>turnstile</th>\n",
       "      <th></th>\n",
       "      <th></th>\n",
       "    </tr>\n",
       "  </thead>\n",
       "  <tbody>\n",
       "    <tr>\n",
       "      <th>N504-R021-02-00-04</th>\n",
       "      <td>NaN</td>\n",
       "      <td>-10869325.0</td>\n",
       "    </tr>\n",
       "  </tbody>\n",
       "</table>\n",
       "</div>"
      ],
      "text/plain": [
       "                    total       total\n",
       "turnstile                            \n",
       "N504-R021-02-00-04    NaN -10869325.0"
      ]
     },
     "execution_count": 482,
     "metadata": {},
     "output_type": "execute_result"
    }
   ],
   "source": [
    "diff[diff.iloc[:,-1]<0]"
   ]
  },
  {
   "cell_type": "markdown",
   "metadata": {},
   "source": [
    "It shows Turnstile N504-R021-02-00-04 has strange records. Then let's see full records of Turnstile N504-R021-02-00-04 "
   ]
  },
  {
   "cell_type": "code",
   "execution_count": 416,
   "metadata": {
    "collapsed": false
   },
   "outputs": [
    {
     "data": {
      "text/html": [
       "<div>\n",
       "<table border=\"1\" class=\"dataframe\">\n",
       "  <thead>\n",
       "    <tr style=\"text-align: right;\">\n",
       "      <th></th>\n",
       "      <th></th>\n",
       "      <th>total</th>\n",
       "    </tr>\n",
       "    <tr>\n",
       "      <th>turnstile</th>\n",
       "      <th>time</th>\n",
       "      <th></th>\n",
       "    </tr>\n",
       "  </thead>\n",
       "  <tbody>\n",
       "    <tr>\n",
       "      <th rowspan=\"7\" valign=\"top\">N504R02102-00-04</th>\n",
       "      <th>00:00:00</th>\n",
       "      <td>10874252.0</td>\n",
       "    </tr>\n",
       "    <tr>\n",
       "      <th>04:00:00</th>\n",
       "      <td>10874298.0</td>\n",
       "    </tr>\n",
       "    <tr>\n",
       "      <th>08:00:00</th>\n",
       "      <td>10874687.0</td>\n",
       "    </tr>\n",
       "    <tr>\n",
       "      <th>12:00:00</th>\n",
       "      <td>1822.0</td>\n",
       "    </tr>\n",
       "    <tr>\n",
       "      <th>16:00:00</th>\n",
       "      <td>2774.0</td>\n",
       "    </tr>\n",
       "    <tr>\n",
       "      <th>20:00:00</th>\n",
       "      <td>4517.0</td>\n",
       "    </tr>\n",
       "    <tr>\n",
       "      <th>24:00:00</th>\n",
       "      <td>4927.0</td>\n",
       "    </tr>\n",
       "  </tbody>\n",
       "</table>\n",
       "</div>"
      ],
      "text/plain": [
       "                                total\n",
       "turnstile        time                \n",
       "N504R02102-00-04 00:00:00  10874252.0\n",
       "                 04:00:00  10874298.0\n",
       "                 08:00:00  10874687.0\n",
       "                 12:00:00      1822.0\n",
       "                 16:00:00      2774.0\n",
       "                 20:00:00      4517.0\n",
       "                 24:00:00      4927.0"
      ]
     },
     "execution_count": 416,
     "metadata": {},
     "output_type": "execute_result"
    }
   ],
   "source": [
    "EE080113_df.iloc[EE080113_df.index.get_level_values('turnstile') == 'N504R02102-00-04']"
   ]
  },
  {
   "cell_type": "code",
   "execution_count": 483,
   "metadata": {
    "collapsed": false
   },
   "outputs": [
    {
     "name": "stdout",
     "output_type": "stream",
     "text": [
      "Total number of entries & exits for Turnstile N504-R021-02-00-04 should be 3540\n"
     ]
    }
   ],
   "source": [
    "print('Total number of entries & exits for Turnstile N504-R021-02-00-04 should be %s' % ((10874687 - 10874252)+(4927-1822)))"
   ]
  },
  {
   "cell_type": "markdown",
   "metadata": {},
   "source": [
    "Plot the distribution to see if the results make sense"
   ]
  },
  {
   "cell_type": "code",
   "execution_count": 543,
   "metadata": {
    "collapsed": false
   },
   "outputs": [
    {
     "data": {
      "text/plain": [
       "<matplotlib.text.Text at 0x9f3db290b8>"
      ]
     },
     "execution_count": 543,
     "metadata": {},
     "output_type": "execute_result"
    },
    {
     "data": {
      "image/png": "[encoded data removed]",
      "text/plain": [
       "<matplotlib.figure.Figure at 0x9f3dc96c18>"
      ]
     },
     "metadata": {},
     "output_type": "display_data"
    }
   ],
   "source": [
    "plt.figure(figsize=(6,3))\n",
    "plt.hist(diff[diff.iloc[:,-1]>0].iloc[:,-1].values)\n",
    "plt.title('Histogram of number of entries & exits for each Turnstile for each audit')"
   ]
  },
  {
   "cell_type": "code",
   "execution_count": 491,
   "metadata": {
    "collapsed": false
   },
   "outputs": [
    {
     "name": "stdout",
     "output_type": "stream",
     "text": [
      "The final answer is 9636595.0\n"
     ]
    }
   ],
   "source": [
    "print('The final answer is %s' %(sum(diff[diff.iloc[:,-1]>0].iloc[:,-1].values)+3540))"
   ]
  },
  {
   "cell_type": "code",
   "execution_count": null,
   "metadata": {
    "collapsed": true
   },
   "outputs": [],
   "source": []
  },
  {
   "cell_type": "markdown",
   "metadata": {},
   "source": [
    "#### 3. Let’s define the busy-ness as sum of entry & exit count. What station was the busiest on August 1, 2013? What turnstile was the busiest on that date?\n",
    "\n",
    "   **Answer：** \n",
    "   1. '42 ST-GRD CNTRL'\n",
    "   2. C/A: N063A;  UNIT: R011;   SCP: 00-00-00"
   ]
  },
  {
   "cell_type": "code",
   "execution_count": 32,
   "metadata": {
    "collapsed": false
   },
   "outputs": [
    {
     "data": {
      "text/plain": [
       "0    11786.0\n",
       "Name: (N063A-R011-00-00-00, 08-01-13), dtype: float64"
      ]
     },
     "execution_count": 32,
     "metadata": {},
     "output_type": "execute_result"
    }
   ],
   "source": [
    "turnstile_r_df = pd.DataFrame(EE080113_df.groupby(['turnstile','date']).sum().sum(axis = 1).groupby(level = 0).diff().dropna())#.values\n",
    "turnstile_r_df.sort_values(by = 0,ascending = False).iloc[0,:]"
   ]
  },
  {
   "cell_type": "code",
   "execution_count": 45,
   "metadata": {
    "collapsed": false
   },
   "outputs": [
    {
     "data": {
      "text/plain": [
       "0    131388.0\n",
       "Name: R238-R046, dtype: float64"
      ]
     },
     "execution_count": 45,
     "metadata": {},
     "output_type": "execute_result"
    }
   ],
   "source": [
    "turnstile_r_df = turnstile_r_df.reset_index()\n",
    "turnstile_r_df['station'] = list(map(lambda x:x.split('-')[0]+'-'+x.split('-')[1],turnstile_r_df['turnstile']))\n",
    "turnstile_r_df[['station',0]].groupby('station').sum().sort_values(by = 0,ascending = False).iloc[0,:]"
   ]
  },
  {
   "cell_type": "code",
   "execution_count": 46,
   "metadata": {
    "collapsed": false
   },
   "outputs": [
    {
     "name": "stdout",
     "output_type": "stream",
     "text": [
      "[('42 ST-GRD CNTRL',)]\n"
     ]
    }
   ],
   "source": [
    "with conPre:\n",
    "    cur = conPre.cursor()\n",
    "    cur.execute(\"\"\"select STATION from remote where UNIT = 'R046' AND [C/A] = 'R238'\"\"\")\n",
    "    busy_station = cur.fetchall()\n",
    "print(busy_station)"
   ]
  },
  {
   "cell_type": "code",
   "execution_count": null,
   "metadata": {
    "collapsed": true
   },
   "outputs": [],
   "source": []
  },
  {
   "cell_type": "markdown",
   "metadata": {},
   "source": [
    "#### 4. What stations have seen the most usage growth/decline in 2013\n",
    "\n",
    "   **Answer:** \n",
    "   1. decease:[('66 ST-LINCOLN',)]\n",
    "   2. incease:[('FULTON ST',)]"
   ]
  },
  {
   "cell_type": "code",
   "execution_count": 4,
   "metadata": {
    "collapsed": false
   },
   "outputs": [
    {
     "name": "stdout",
     "output_type": "stream",
     "text": [
      "Spend 127 seconds\n"
     ]
    }
   ],
   "source": [
    "start = datetime.datetime.now()\n",
    "with conPre:\n",
    "    cur = conPre.cursor()\n",
    "    cur.execute(\"\"\"select TURNSTILE,date,max(ENTRIES) AS entries, max(exits) as exits from pre\n",
    "    group by turnstile, date Having DATE LIKE '%13' AND DESC = 'REGULAR'\"\"\")\n",
    "    EE13 = cur.fetchall()\n",
    "end = datetime.datetime.now()\n",
    "print('Spend %s seconds'%(end-start).seconds)\n",
    "EE13_df = pd.DataFrame(EE13,columns = ['turnstile','date','entries','exits'])\n",
    "turnstile_r_df_13 = pd.DataFrame(EE13_df.groupby(['turnstile','date']).sum().sum(axis = 1).groupby(level = 0).diff().dropna())#.values"
   ]
  },
  {
   "cell_type": "code",
   "execution_count": 51,
   "metadata": {
    "collapsed": false
   },
   "outputs": [],
   "source": [
    "turnstile_r_df13 = turnstile_r_df_13.reset_index()\n",
    "turnstile_r_df13['station'] = list(map(lambda x:x.split('-')[0]+'-'+x.split('-')[1],turnstile_r_df13['turnstile']))\n",
    "turnstile_r_df13 = turnstile_r_df13[turnstile_r_df13[0]>0]\n",
    "last13 = turnstile_r_df13[['station','date',0]].groupby(['station','date']).sum().sort_index().groupby(level=0).nth(-1)\n",
    "first13 = turnstile_r_df13[['station','date',0]].groupby(['station','date']).sum().sort_index().groupby(level=0).nth(0)\n",
    "last13.columns = ['Re13']"
   ]
  },
  {
   "cell_type": "code",
   "execution_count": 65,
   "metadata": {
    "collapsed": false
   },
   "outputs": [
    {
     "data": {
      "text/plain": [
       "0   -0.980173\n",
       "Name: OB01-R459, dtype: float64"
      ]
     },
     "execution_count": 65,
     "metadata": {},
     "output_type": "execute_result"
    }
   ],
   "source": [
    "change_df = last12.join(last13,lsuffix = '%')\n",
    "pd.DataFrame((change_df['Re13']-change_df['Re12'])/change_df['Re12']).sort_values(by  = 0).iloc[0,:]"
   ]
  },
  {
   "cell_type": "code",
   "execution_count": 66,
   "metadata": {
    "collapsed": false
   },
   "outputs": [
    {
     "data": {
      "text/plain": [
       "0   NaN\n",
       "Name: R217-R194, dtype: float64"
      ]
     },
     "execution_count": 66,
     "metadata": {},
     "output_type": "execute_result"
    }
   ],
   "source": [
    "pd.DataFrame((change_df['Re13']-change_df['Re12'])/change_df['Re12']).sort_values(by  = 0).iloc[-1,:]"
   ]
  },
  {
   "cell_type": "code",
   "execution_count": 67,
   "metadata": {
    "collapsed": false
   },
   "outputs": [
    {
     "name": "stdout",
     "output_type": "stream",
     "text": [
      "decease:[('ORCHARD BEACH',)]\n",
      "---------\n",
      "incease:[]\n"
     ]
    }
   ],
   "source": [
    "with conPre:\n",
    "    cur = conPre.cursor()\n",
    "    cur.execute(\"\"\"select STATION from remote where UNIT = 'R459' AND [C/A] = 'OB01'\"\"\")\n",
    "    d_station = cur.fetchall()\n",
    "    print('decease:%s'%d_station)\n",
    "    print(\"---------\")\n",
    "    cur.execute(\"\"\"select STATION from remote where UNIT = 'R194' AND [C/A] = 'R217'\"\"\")\n",
    "    i_station = cur.fetchall()\n",
    "    print('incease:%s'%i_station)"
   ]
  },
  {
   "cell_type": "code",
   "execution_count": 55,
   "metadata": {
    "collapsed": false
   },
   "outputs": [
    {
     "name": "stdout",
     "output_type": "stream",
     "text": [
      "10417845\n",
      "10417838\n",
      "10017549\n",
      "total    0.000000e+00\n",
      "total    1.659806e+10\n",
      "dtype: float64\n",
      "Spend 96 seconds\n"
     ]
    }
   ],
   "source": [
    "start = datetime.datetime.now()\n",
    "with conPre:\n",
    "    cur = conPre.cursor()\n",
    "    cur.execute(\"\"\"select TURNSTILE,DESC,DATE || TIME AS TIME,(ENTRIES+EXITS) AS TOTAL \\\n",
    "    from pre where DATE LIKE '%13' AND DESC IN ('REGULAR','RECOVR AUD')\n",
    "    UNION ALL\n",
    "    select TURNSTILE,DESC,'12-31-13'||'24:00:00' AS TIME,(ENTRIES+EXITS) AS TOTAL \\\n",
    "    from prior where DATE = '01-01-14' AND TIME = '00:00:00'AND DESC IN ('REGULAR','RECOVR AUD')\"\"\")\n",
    "    EE13 = cur.fetchall()\n",
    "end = datetime.datetime.now()\n",
    "EE13_df = pd.DataFrame(EE13,columns = ['turnstile','DESC','time','total'])\n",
    "print(len(EE13_df))\n",
    "EE13_df = EE13_df.dropna().sort_values(by = 'DESC').reindex()\n",
    "print(len(EE13_df))\n",
    "## recover audit\n",
    "EE13_df = EE13_df[~EE13_df.duplicated(['turnstile','time'],keep = 'first').values].groupby(['turnstile','time']).sum().sort_index()\n",
    "print(len(EE13_df))\n",
    "first = EE13_df.groupby(level=0).nth(0)\n",
    "last = EE13_df.groupby(level=0).nth(-1)\n",
    "diff = pd.concat([first, last], axis=1, join='inner').diff(axis = 1)\n",
    "print(diff.sum())\n",
    "print('Spend %s seconds'%(end-start).seconds)"
   ]
  },
  {
   "cell_type": "code",
   "execution_count": 56,
   "metadata": {
    "collapsed": true
   },
   "outputs": [],
   "source": [
    "index_N = diff[diff.iloc[:,-1]<0].index\n",
    "dict_ee = dict()\n",
    "for i in index_N:\n",
    "    dict_ee[i] = 0\n",
    "    ee = EE13_df.iloc[EE13_df.index.get_level_values('turnstile') == i].values\n",
    "    value0 = ee[0]\n",
    "    for value in ee[1:]:\n",
    "        if value>=value0:\n",
    "            dict_ee[i]+=value-value0\n",
    "            value0 = value\n",
    "        else:\n",
    "            value0 = value\n",
    "for index in dict_ee.keys():\n",
    "    diff.ix[index,-1] = dict_ee[index][0]\n",
    "    \n",
    "diff['station'] = list(map(lambda x: x.split('_')[0]+x.split('_')[1],diff.index))\n",
    "ee2013 = diff.groupby(['station']).sum()\n",
    "ee2013.columns = ['NA','2013']"
   ]
  },
  {
   "cell_type": "code",
   "execution_count": 60,
   "metadata": {
    "collapsed": false
   },
   "outputs": [],
   "source": [
    "with conPre:\n",
    "    cur = conPre.cursor()\n",
    "    cur.execute(\"\"\"select [C/A] || '_' || UNIT || '_' || SCP AS TURNSTILE,DESC,DATE || TIME AS TIME,(ENTRIES+EXITS) AS TOTAL \\\n",
    "    from prior where DATE LIKE '%12' AND DESC IN ('REGULAR','RECOVR AUD')\n",
    "    UNION ALL\n",
    "    select [C/A] || '_' || UNIT || '_' || SCP AS TURNSTILE,DESC,'12-31-12'||'24:00:00' AS TIME,(ENTRIES+EXITS) AS TOTAL \\\n",
    "    from prior where DATE = '01-01-13' AND TIME = '00:00:00'AND DESC IN ('REGULAR','RECOVR AUD')\"\"\")\n",
    "    EE12 = cur.fetchall()\n",
    "EE12_df = pd.DataFrame(EE12,columns = ['turnstile','DESC','time','total'])\n",
    "EE12_df = EE12_df.dropna().sort_values(by = 'DESC').reindex()\n",
    "EE12_df = EE12_df[~EE12_df.duplicated(['turnstile','time'],keep = 'first').values].groupby(['turnstile','time']).sum().sort_index()\n",
    "first = EE12_df.groupby(level=0).nth(0)\n",
    "last = EE12_df.groupby(level=0).nth(-1)\n",
    "diff12 = pd.concat([first, last], axis=1, join='inner').diff(axis = 1)\n",
    "index_N = diff12[diff12.iloc[:,-1]<0].index\n",
    "dict_ee = dict()\n",
    "for i in index_N:\n",
    "    dict_ee[i] = 0\n",
    "    ee = EE12_df.iloc[EE12_df.index.get_level_values('turnstile') == i].values\n",
    "    value0 = ee[0]\n",
    "    for value in ee[1:]:\n",
    "        if value>=value0:\n",
    "            dict_ee[i]+=value-value0\n",
    "            value0 = value\n",
    "        else:\n",
    "            value0 = value\n",
    "for index in dict_ee.keys():\n",
    "    diff12.ix[index,-1] = dict_ee[index][0]\n",
    "diff12['station'] = list(map(lambda x: x.split('_')[0]+x.split('_')[1],diff12.index))\n",
    "ee2012 = diff12.groupby(['station']).sum()\n",
    "ee2012.columns = ['NA','2012']"
   ]
  },
  {
   "cell_type": "code",
   "execution_count": 111,
   "metadata": {
    "collapsed": false
   },
   "outputs": [
    {
     "data": {
      "text/html": [
       "<div>\n",
       "<table border=\"1\" class=\"dataframe\">\n",
       "  <thead>\n",
       "    <tr style=\"text-align: right;\">\n",
       "      <th></th>\n",
       "      <th>change</th>\n",
       "    </tr>\n",
       "    <tr>\n",
       "      <th>station</th>\n",
       "      <th></th>\n",
       "    </tr>\n",
       "  </thead>\n",
       "  <tbody>\n",
       "    <tr>\n",
       "      <th>R159R164</th>\n",
       "      <td>-0.995230</td>\n",
       "    </tr>\n",
       "    <tr>\n",
       "      <th>B034R264</th>\n",
       "      <td>-0.994504</td>\n",
       "    </tr>\n",
       "    <tr>\n",
       "      <th>R190R038</th>\n",
       "      <td>-0.994043</td>\n",
       "    </tr>\n",
       "    <tr>\n",
       "      <th>PTH04R551</th>\n",
       "      <td>-0.993579</td>\n",
       "    </tr>\n",
       "    <tr>\n",
       "      <th>R175R169</th>\n",
       "      <td>-0.993222</td>\n",
       "    </tr>\n",
       "  </tbody>\n",
       "</table>\n",
       "</div>"
      ],
      "text/plain": [
       "             change\n",
       "station            \n",
       "R159R164  -0.995230\n",
       "B034R264  -0.994504\n",
       "R190R038  -0.994043\n",
       "PTH04R551 -0.993579\n",
       "R175R169  -0.993222"
      ]
     },
     "execution_count": 111,
     "metadata": {},
     "output_type": "execute_result"
    }
   ],
   "source": [
    "station_Change = pd.DataFrame((ee2013.join(ee2012,how='left',lsuffix = 'A')['2013'] - ee2013.join(ee2012,how='left',lsuffix = 'A')['2012'])/ee2013.join(ee2012,how='left',lsuffix = 'A')['2012'],columns = ['change']).sort_values(by = 'change').dropna()\n",
    "station_Change.head()"
   ]
  },
  {
   "cell_type": "code",
   "execution_count": 112,
   "metadata": {
    "collapsed": false
   },
   "outputs": [
    {
     "data": {
      "text/plain": [
       "change   -0.99523\n",
       "Name: R159R164, dtype: float64"
      ]
     },
     "execution_count": 112,
     "metadata": {},
     "output_type": "execute_result"
    }
   ],
   "source": [
    "station_Change.ix[0,:]"
   ]
  },
  {
   "cell_type": "code",
   "execution_count": 113,
   "metadata": {
    "collapsed": false
   },
   "outputs": [
    {
     "data": {
      "text/plain": [
       "change    2513.211111\n",
       "Name: R114R028, dtype: float64"
      ]
     },
     "execution_count": 113,
     "metadata": {},
     "output_type": "execute_result"
    }
   ],
   "source": [
    "station_Change.ix[-1,:]"
   ]
  },
  {
   "cell_type": "code",
   "execution_count": 115,
   "metadata": {
    "collapsed": false
   },
   "outputs": [
    {
     "name": "stdout",
     "output_type": "stream",
     "text": [
      "decease:[('66 ST-LINCOLN',)]\n",
      "---------\n",
      "incease:[('FULTON ST',)]\n"
     ]
    }
   ],
   "source": [
    "with conPre:\n",
    "    cur = conPre.cursor()\n",
    "    cur.execute(\"\"\"select STATION from remote where UNIT = 'R164' AND [C/A] = 'R159'\"\"\")\n",
    "    d_station = cur.fetchall()\n",
    "    print('decease:%s'%d_station)\n",
    "    print(\"---------\")\n",
    "    cur.execute(\"\"\"select STATION from remote where UNIT = 'R028' AND [C/A] = 'R114'\"\"\")\n",
    "    i_station = cur.fetchall()\n",
    "    print('incease:%s'%i_station)   "
   ]
  },
  {
   "cell_type": "markdown",
   "metadata": {},
   "source": [
    "#### 5. What dates are the least busy? Could you identify days on which stations were not operating at full capacity or closed entirely?\n",
    "\n",
    "   **Answer:** \n",
    "   1. Least busy: 2012-10-30\n",
    "   2. For example: 2010-04-18  A002-R051"
   ]
  },
  {
   "cell_type": "code",
   "execution_count": 100,
   "metadata": {
    "collapsed": false
   },
   "outputs": [
    {
     "name": "stdout",
     "output_type": "stream",
     "text": [
      "Spend 151 seconds\n"
     ]
    }
   ],
   "source": [
    "start = datetime.datetime.now()\n",
    "with conPre:\n",
    "    cur = conPre.cursor()\n",
    "    cur.execute(\"\"\"select TURNSTILE,date,max(ENTRIES) AS entries, max(exits) as exits from pre\n",
    "    group by turnstile, date Having DESC = 'REGULAR'\"\"\")\n",
    "    EE = cur.fetchall()\n",
    "end = datetime.datetime.now()\n",
    "print('Spend %s seconds'%(end-start).seconds)"
   ]
  },
  {
   "cell_type": "code",
   "execution_count": 119,
   "metadata": {
    "collapsed": false
   },
   "outputs": [],
   "source": [
    "EE_df = pd.DataFrame(EE,columns = ['turnstile','date','entries','exits'])\n",
    "EE_df['date'] = pd.to_datetime(EE_df['date'], format='%m-%d-%y')\n",
    "turnstile_r_df = pd.DataFrame(EE_df.groupby(['turnstile','date']).sum().sum(axis = 1).groupby(level = 0).diff().dropna())#.values\n",
    "\n",
    "turnstile_r_df = turnstile_r_df.reset_index()\n",
    "turnstile_r_df['station'] = list(map(lambda x:x.split('-')[0]+'-'+x.split('-')[1],turnstile_r_df['turnstile']))\n",
    "turnstile_r_df = turnstile_r_df[turnstile_r_df[0]>=0]"
   ]
  },
  {
   "cell_type": "code",
   "execution_count": 123,
   "metadata": {
    "collapsed": false
   },
   "outputs": [
    {
     "data": {
      "text/html": [
       "<div>\n",
       "<table border=\"1\" class=\"dataframe\">\n",
       "  <thead>\n",
       "    <tr style=\"text-align: right;\">\n",
       "      <th></th>\n",
       "      <th>0</th>\n",
       "    </tr>\n",
       "    <tr>\n",
       "      <th>date</th>\n",
       "      <th></th>\n",
       "    </tr>\n",
       "  </thead>\n",
       "  <tbody>\n",
       "    <tr>\n",
       "      <th>2012-10-30</th>\n",
       "      <td>13310.0</td>\n",
       "    </tr>\n",
       "    <tr>\n",
       "      <th>2012-10-31</th>\n",
       "      <td>22186.0</td>\n",
       "    </tr>\n",
       "    <tr>\n",
       "      <th>2012-10-29</th>\n",
       "      <td>28259.0</td>\n",
       "    </tr>\n",
       "    <tr>\n",
       "      <th>2011-08-28</th>\n",
       "      <td>69844.0</td>\n",
       "    </tr>\n",
       "    <tr>\n",
       "      <th>2012-11-01</th>\n",
       "      <td>396289.0</td>\n",
       "    </tr>\n",
       "  </tbody>\n",
       "</table>\n",
       "</div>"
      ],
      "text/plain": [
       "                   0\n",
       "date                \n",
       "2012-10-30   13310.0\n",
       "2012-10-31   22186.0\n",
       "2012-10-29   28259.0\n",
       "2011-08-28   69844.0\n",
       "2012-11-01  396289.0"
      ]
     },
     "execution_count": 123,
     "metadata": {},
     "output_type": "execute_result"
    }
   ],
   "source": [
    "turnstile_r_df[['date',0]].groupby('date').sum().sort_values(by = 0).head()"
   ]
  },
  {
   "cell_type": "code",
   "execution_count": 127,
   "metadata": {
    "collapsed": false
   },
   "outputs": [
    {
     "data": {
      "text/plain": [
       "date        station   \n",
       "2010-04-18  A002-R051     2\n",
       "            A007-R079     1\n",
       "            A043-R462     3\n",
       "            A046-R463     3\n",
       "            A047-R087     5\n",
       "            A050-R088     8\n",
       "            A055-R227     2\n",
       "            A058-R001     1\n",
       "            A060-R001     1\n",
       "            A077-R002     1\n",
       "            A082-R002     4\n",
       "            A083-R125     1\n",
       "            A084-R125     7\n",
       "            A085-R125     4\n",
       "            B009-R411     1\n",
       "            B013-R196     1\n",
       "            C004-R089     3\n",
       "            C008-R099     2\n",
       "            C009-R057     2\n",
       "            C022-R212     2\n",
       "            C026-R215     2\n",
       "            C028-R216     2\n",
       "            D004-R391     2\n",
       "            D006-R398     2\n",
       "            D011-R394     2\n",
       "            G001-R151     1\n",
       "            G009-R151     1\n",
       "            G015-R312     2\n",
       "            H001-R175     2\n",
       "            H041-R152     1\n",
       "                         ..\n",
       "2014-10-10  R317-R408     2\n",
       "            R318-R408     1\n",
       "            R323-R387     2\n",
       "            R325-R388     2\n",
       "            R327-R361     2\n",
       "            R331-R364     2\n",
       "            R334-R367     1\n",
       "            R412-R146     2\n",
       "            R413-R325     2\n",
       "            R414-R162     2\n",
       "            R415-R120     2\n",
       "            R416-R245     2\n",
       "            R417-R222     1\n",
       "            R421-R427     2\n",
       "            R423-R429     1\n",
       "            R508-R346     1\n",
       "            R517-R291     2\n",
       "            R520-R223     2\n",
       "            R523-R147     2\n",
       "            R532-R328     1\n",
       "            R532H-R328    8\n",
       "            R534-R055     1\n",
       "            R601A-R108    2\n",
       "            R612-R057     1\n",
       "            R626-R062     1\n",
       "            R639-R109     3\n",
       "            R645-R110     1\n",
       "            S101A-R070    2\n",
       "            S102-R165     2\n",
       "            TRAM2-R469    1\n",
       "Name: turnstile, dtype: int64"
      ]
     },
     "execution_count": 127,
     "metadata": {},
     "output_type": "execute_result"
    }
   ],
   "source": [
    "turnstile_r_df[turnstile_r_df[0] == 0].groupby(['date','station']).count()['turnstile']"
   ]
  },
  {
   "cell_type": "markdown",
   "metadata": {},
   "source": [
    "# Visualization"
   ]
  },
  {
   "cell_type": "markdown",
   "metadata": {},
   "source": [
    "#### 1. Plot the daily row counts for data files in Q3 2013."
   ]
  },
  {
   "cell_type": "code",
   "execution_count": 128,
   "metadata": {
    "collapsed": false
   },
   "outputs": [],
   "source": [
    "with conPre:\n",
    "    cur = conPre.cursor()\n",
    "    cur.execute(\"\"\"select DATE, count(*) from pre group by date Having DATE LIKE '%13'\"\"\")\n",
    "    temp = cur.fetchall()\n",
    "daily_rcnt = pd.DataFrame(temp,columns = ['DATE','CNT'])\n",
    "daily_rcnt['Month'] = list(map(lambda x:x.split('-')[0],daily_rcnt['DATE']))\n",
    "daily_rcnt['DATE'] = pd.to_datetime(daily_rcnt['DATE'], format='%m-%d-%y')\n",
    "daily_rcnt = daily_rcnt[((daily_rcnt['Month']=='07') & (daily_rcnt['Month']=='08') & (daily_rcnt['Month']=='09'))]"
   ]
  },
  {
   "cell_type": "code",
   "execution_count": 129,
   "metadata": {
    "collapsed": false
   },
   "outputs": [],
   "source": [
    "daily_rcnt = pd.DataFrame(temp,columns = ['DATE','CNT'])\n",
    "daily_rcnt['Month'] = list(map(lambda x:x.split('-')[0],daily_rcnt['DATE']))\n",
    "daily_rcnt['DATE'] = pd.to_datetime(daily_rcnt['DATE'], format='%m-%d-%y')"
   ]
  },
  {
   "cell_type": "code",
   "execution_count": 130,
   "metadata": {
    "collapsed": false
   },
   "outputs": [
    {
     "data": {
      "text/plain": [
       "<matplotlib.text.Text at 0x90834de6d8>"
      ]
     },
     "execution_count": 130,
     "metadata": {},
     "output_type": "execute_result"
    },
    {
     "data": {
      "image/png": "[encoded data removed]",
      "text/plain": [
       "<matplotlib.figure.Figure at 0x900300e1d0>"
      ]
     },
     "metadata": {},
     "output_type": "display_data"
    }
   ],
   "source": [
    "plt.figure(figsize=(8,4))\n",
    "daily_rcnt[((daily_rcnt['Month']>='07') & (daily_rcnt['Month']<='09'))].set_index('DATE')['CNT'].plot()\n",
    "plt.title('daily row counts in Q3 2013')"
   ]
  },
  {
   "cell_type": "markdown",
   "metadata": {},
   "source": [
    "#### 2. Plot the daily total number of entries & exits across the system for Q3 2013."
   ]
  },
  {
   "cell_type": "code",
   "execution_count": null,
   "metadata": {
    "collapsed": false
   },
   "outputs": [],
   "source": [
    "with conPre:\n",
    "    cur = conPre.cursor()\n",
    "    cur.execute(\"\"\"select TURNSTILE,date,max(ENTRIES) AS entries, max(exits) as exits from pre \n",
    "    group by turnstile, date Having date LIKE '%13' AND substr(date,2,1) IN ('7','8','9') AND desc = 'REGULAR' \"\"\")\n",
    "    turnstile_daily_Q3 = cur.fetchall()"
   ]
  },
  {
   "cell_type": "code",
   "execution_count": null,
   "metadata": {
    "collapsed": false
   },
   "outputs": [],
   "source": [
    "turnstile_daily_Q3_df = pd.DataFrame(turnstile_daily_Q3,columns = ['turnstile','date','entries','exits'])\n",
    "turnstile_daily_Q3_df['date'] = pd.to_datetime(turnstile_daily_Q3_df['date'], format='%m-%d-%y')\n",
    "turnstile_r_dfQ3 = pd.DataFrame(turnstile_daily_Q3_df.groupby(['turnstile','date']).sum().sum(axis = 1).groupby(level = 0).diff().dropna())#.values\n",
    "\n",
    "turnstile_r_dfQ3 = turnstile_r_dfQ3.reset_index()\n",
    "turnstile_r_dfQ3['station'] = list(map(lambda x:x.split('-')[0]+'-'+x.split('-')[1],turnstile_r_dfQ3['turnstile']))\n",
    "turnstile_r_dfQ3  = turnstile_r_dfQ3[turnstile_r_dfQ3[0]>=0]"
   ]
  },
  {
   "cell_type": "code",
   "execution_count": null,
   "metadata": {
    "collapsed": false
   },
   "outputs": [],
   "source": [
    "turnstile_r_dfQ3[['date',0]].groupby('date').sum().sort_values(by = 0).head()"
   ]
  },
  {
   "cell_type": "code",
   "execution_count": null,
   "metadata": {
    "collapsed": false
   },
   "outputs": [],
   "source": [
    "turnstile_r_dfQ3[['date',0]].groupby('date').sum().sort_index().plot()\n",
    "plt.title('daily total number of entries & exits across the system for Q3 2013')"
   ]
  },
  {
   "cell_type": "code",
   "execution_count": null,
   "metadata": {
    "collapsed": true
   },
   "outputs": [],
   "source": []
  },
  {
   "cell_type": "markdown",
   "metadata": {
    "collapsed": true
   },
   "source": [
    "#### 3.   Plot the mean and standard deviation of the daily total number of entries & exits for each month in Q3 2013 for station 34 ST-PENN STA"
   ]
  },
  {
   "cell_type": "code",
   "execution_count": null,
   "metadata": {
    "collapsed": true
   },
   "outputs": [],
   "source": [
    "turnstile_r_dfQ3 "
   ]
  },
  {
   "cell_type": "code",
   "execution_count": null,
   "metadata": {
    "collapsed": true
   },
   "outputs": [],
   "source": []
  },
  {
   "cell_type": "markdown",
   "metadata": {},
   "source": [
    "#### 4.   Plot 25/50/75 percentile of the daily total number of entries & exits for each month in Q3 2013 for station 34 ST-PENN STA."
   ]
  },
  {
   "cell_type": "code",
   "execution_count": null,
   "metadata": {
    "collapsed": true
   },
   "outputs": [],
   "source": []
  },
  {
   "cell_type": "markdown",
   "metadata": {},
   "source": [
    "#### 5. Plot the daily number of closed stations and number of stations that were not operating at full capacity in Q3 2013"
   ]
  },
  {
   "cell_type": "code",
   "execution_count": null,
   "metadata": {
    "collapsed": true
   },
   "outputs": [],
   "source": []
  }
 ],
 "metadata": {
  "anaconda-cloud": {},
  "kernelspec": {
   "display_name": "Python [default]",
   "language": "python",
   "name": "python3"
  },
  "language_info": {
   "codemirror_mode": {
    "name": "ipython",
    "version": 3
   },
   "file_extension": ".py",
   "mimetype": "text/x-python",
   "name": "python",
   "nbconvert_exporter": "python",
   "pygments_lexer": "ipython3",
   "version": "3.5.2"
  }
 },
 "nbformat": 4,
 "nbformat_minor": 1
}
